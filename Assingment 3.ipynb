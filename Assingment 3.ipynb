{
 "cells": [
  {
   "cell_type": "markdown",
   "id": "df6d0f49",
   "metadata": {},
   "source": [
    "# Assingnment - 3 for Data Science With Python"
   ]
  },
  {
   "cell_type": "markdown",
   "id": "7fe440a8",
   "metadata": {},
   "source": [
    "***1-For the below DataFrame creats a column \"Age Category\" which classifies the ages as Minor,Adult,or Senior.***"
   ]
  },
  {
   "cell_type": "code",
   "execution_count": 85,
   "id": "f7b10725",
   "metadata": {},
   "outputs": [
    {
     "data": {
      "text/html": [
       "<div>\n",
       "<style scoped>\n",
       "    .dataframe tbody tr th:only-of-type {\n",
       "        vertical-align: middle;\n",
       "    }\n",
       "\n",
       "    .dataframe tbody tr th {\n",
       "        vertical-align: top;\n",
       "    }\n",
       "\n",
       "    .dataframe thead th {\n",
       "        text-align: right;\n",
       "    }\n",
       "</style>\n",
       "<table border=\"1\" class=\"dataframe\">\n",
       "  <thead>\n",
       "    <tr style=\"text-align: right;\">\n",
       "      <th></th>\n",
       "      <th>Age</th>\n",
       "      <th>Age Category</th>\n",
       "    </tr>\n",
       "  </thead>\n",
       "  <tbody>\n",
       "    <tr>\n",
       "      <th>0</th>\n",
       "      <td>NaN</td>\n",
       "      <td>NaN</td>\n",
       "    </tr>\n",
       "    <tr>\n",
       "      <th>1</th>\n",
       "      <td>NaN</td>\n",
       "      <td>NaN</td>\n",
       "    </tr>\n",
       "    <tr>\n",
       "      <th>2</th>\n",
       "      <td>NaN</td>\n",
       "      <td>NaN</td>\n",
       "    </tr>\n",
       "    <tr>\n",
       "      <th>3</th>\n",
       "      <td>NaN</td>\n",
       "      <td>NaN</td>\n",
       "    </tr>\n",
       "    <tr>\n",
       "      <th>4</th>\n",
       "      <td>NaN</td>\n",
       "      <td>NaN</td>\n",
       "    </tr>\n",
       "    <tr>\n",
       "      <th>5</th>\n",
       "      <td>NaN</td>\n",
       "      <td>NaN</td>\n",
       "    </tr>\n",
       "    <tr>\n",
       "      <th>6</th>\n",
       "      <td>NaN</td>\n",
       "      <td>NaN</td>\n",
       "    </tr>\n",
       "    <tr>\n",
       "      <th>7</th>\n",
       "      <td>NaN</td>\n",
       "      <td>NaN</td>\n",
       "    </tr>\n",
       "    <tr>\n",
       "      <th>8</th>\n",
       "      <td>NaN</td>\n",
       "      <td>NaN</td>\n",
       "    </tr>\n",
       "    <tr>\n",
       "      <th>9</th>\n",
       "      <td>NaN</td>\n",
       "      <td>NaN</td>\n",
       "    </tr>\n",
       "  </tbody>\n",
       "</table>\n",
       "</div>"
      ],
      "text/plain": [
       "   Age Age Category\n",
       "0  NaN          NaN\n",
       "1  NaN          NaN\n",
       "2  NaN          NaN\n",
       "3  NaN          NaN\n",
       "4  NaN          NaN\n",
       "5  NaN          NaN\n",
       "6  NaN          NaN\n",
       "7  NaN          NaN\n",
       "8  NaN          NaN\n",
       "9  NaN          NaN"
      ]
     },
     "execution_count": 85,
     "metadata": {},
     "output_type": "execute_result"
    }
   ],
   "source": [
    "import pandas as pd\n",
    "data = {\"Age\":[12,13,14,23,32,52,27,12,75,45]}\n",
    "add_c = {\"Age Category\":[\"Minor\",\"Adult\",\"Senior\"]}\n",
    "df = pd.DataFrame(data)\n",
    "dff = pd.DataFrame(add_c)\n",
    "df>18\n",
    "df<18\n",
    "df>70\n",
    "dff+df"
   ]
  },
  {
   "cell_type": "markdown",
   "id": "f7087bee",
   "metadata": {},
   "source": [
    "***2. write a NumPy Program to change two array axes.***<br>\n",
    " ***Same array : [[1,2,3]]<br>\n",
    " Expected output:<br>\n",
    " [[1]<br>\n",
    " [2]<br>\n",
    " [3]]***\n",
    " "
   ]
  },
  {
   "cell_type": "code",
   "execution_count": 26,
   "id": "981d095d",
   "metadata": {},
   "outputs": [
    {
     "data": {
      "text/plain": [
       "array([[1],\n",
       "       [2],\n",
       "       [3]])"
      ]
     },
     "execution_count": 26,
     "metadata": {},
     "output_type": "execute_result"
    }
   ],
   "source": [
    "import numpy as np\n",
    "array = np.array([[1,2,3]])\n",
    "array.resize(3,1)\n",
    "array"
   ]
  },
  {
   "cell_type": "markdown",
   "id": "448ef6d6",
   "metadata": {},
   "source": [
    "***3. Write a NumPy program to sun all the multiples of 3 or 5 below 100.***"
   ]
  },
  {
   "cell_type": "code",
   "execution_count": 48,
   "id": "88a23fc5",
   "metadata": {},
   "outputs": [],
   "source": [
    "arr = np.arange(1,100)"
   ]
  },
  {
   "cell_type": "code",
   "execution_count": 72,
   "id": "45262213",
   "metadata": {},
   "outputs": [
    {
     "name": "stdout",
     "output_type": "stream",
     "text": [
      "[ 3  6  9 12 15 18 21 24 27 30 33 36 39 42 45 48 51 54 57 60 63 66 69 72\n",
      " 75 78 81 84 87 90 93 96 99]\n",
      "[ 5 10 15 20 25 30 35 40 45 50 55 60 65 70 75 80 85 90 95]\n"
     ]
    },
    {
     "data": {
      "text/plain": [
       "2633"
      ]
     },
     "execution_count": 72,
     "metadata": {},
     "output_type": "execute_result"
    }
   ],
   "source": [
    "ar3 = arr[arr%3==0]\n",
    "print(ar3)\n",
    "ar5 = arr[arr%5==0]\n",
    "print(ar5)\n",
    "S3 = sum(ar3)\n",
    "S5 = sum(ar5)\n",
    "S3+S5"
   ]
  },
  {
   "cell_type": "code",
   "execution_count": null,
   "id": "86830bb5",
   "metadata": {},
   "outputs": [],
   "source": []
  }
 ],
 "metadata": {
  "kernelspec": {
   "display_name": "Python 3 (ipykernel)",
   "language": "python",
   "name": "python3"
  },
  "language_info": {
   "codemirror_mode": {
    "name": "ipython",
    "version": 3
   },
   "file_extension": ".py",
   "mimetype": "text/x-python",
   "name": "python",
   "nbconvert_exporter": "python",
   "pygments_lexer": "ipython3",
   "version": "3.10.9"
  }
 },
 "nbformat": 4,
 "nbformat_minor": 5
}
