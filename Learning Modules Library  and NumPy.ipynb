{
 "cells": [
  {
   "cell_type": "markdown",
   "id": "3cdc5f3d",
   "metadata": {},
   "source": [
    "#  <font size = 10>What is Python Module?\n",
    "<font size = 5> A module is a simple python file that contains collections of function,classes,and variables and has a.py extendion file.eg-math , os, datatime. \n",
    "    \n",
    "                               You can use modules in your program by importing them."
   ]
  },
  {
   "cell_type": "code",
   "execution_count": null,
   "id": "d349039e",
   "metadata": {},
   "outputs": [],
   "source": [
    "import math  # importing a module"
   ]
  },
  {
   "cell_type": "code",
   "execution_count": null,
   "id": "8beb02e6",
   "metadata": {},
   "outputs": [],
   "source": [
    "dir(math)   # checking all the variables,function,classes etc in the module"
   ]
  },
  {
   "cell_type": "code",
   "execution_count": null,
   "id": "84f2a13d",
   "metadata": {},
   "outputs": [],
   "source": [
    "math.sqrt(9)"
   ]
  },
  {
   "cell_type": "code",
   "execution_count": null,
   "id": "2ebbb230",
   "metadata": {},
   "outputs": [],
   "source": [
    "math.pi"
   ]
  },
  {
   "cell_type": "code",
   "execution_count": 1,
   "id": "8d0268ee",
   "metadata": {},
   "outputs": [
    {
     "data": {
      "text/plain": [
       "4.440892098500626e-16"
      ]
     },
     "execution_count": 1,
     "metadata": {},
     "output_type": "execute_result"
    }
   ],
   "source": [
    "from math import sqrt,pi,ulp,tau\n",
    "sqrt(12)\n",
    "pi\n",
    "ulp(2)"
   ]
  },
  {
   "cell_type": "code",
   "execution_count": 2,
   "id": "d8294ea5",
   "metadata": {},
   "outputs": [],
   "source": [
    "import custom_module                             "
   ]
  },
  {
   "cell_type": "code",
   "execution_count": 3,
   "id": "ec290053",
   "metadata": {},
   "outputs": [
    {
     "data": {
      "text/plain": [
       "['Employee',\n",
       " '__builtins__',\n",
       " '__cached__',\n",
       " '__doc__',\n",
       " '__file__',\n",
       " '__loader__',\n",
       " '__name__',\n",
       " '__package__',\n",
       " '__spec__',\n",
       " 'display',\n",
       " 'x']"
      ]
     },
     "execution_count": 3,
     "metadata": {},
     "output_type": "execute_result"
    }
   ],
   "source": [
    "dir(custom_module)"
   ]
  },
  {
   "cell_type": "code",
   "execution_count": 4,
   "id": "38edb03a",
   "metadata": {},
   "outputs": [
    {
     "data": {
      "text/plain": [
       "[1, 2, 3, 4, 5]"
      ]
     },
     "execution_count": 4,
     "metadata": {},
     "output_type": "execute_result"
    }
   ],
   "source": [
    "custom_module.x"
   ]
  },
  {
   "cell_type": "code",
   "execution_count": 5,
   "id": "57219477",
   "metadata": {},
   "outputs": [
    {
     "name": "stdout",
     "output_type": "stream",
     "text": [
      "rohit 28\n"
     ]
    }
   ],
   "source": [
    "x = custom_module.Employee(\"rohit\",28)\n",
    "x.show()"
   ]
  },
  {
   "cell_type": "code",
   "execution_count": 6,
   "id": "ede9651f",
   "metadata": {},
   "outputs": [
    {
     "name": "stdout",
     "output_type": "stream",
     "text": [
      "good morning\n"
     ]
    }
   ],
   "source": [
    "custom_module.display()"
   ]
  },
  {
   "cell_type": "code",
   "execution_count": 7,
   "id": "42e1e7a6",
   "metadata": {},
   "outputs": [
    {
     "data": {
      "text/plain": [
       "[1, 2, 3, 4, 5]"
      ]
     },
     "execution_count": 7,
     "metadata": {},
     "output_type": "execute_result"
    }
   ],
   "source": [
    "from custom_module import *\n",
    "x"
   ]
  },
  {
   "cell_type": "code",
   "execution_count": null,
   "id": "d2970273",
   "metadata": {},
   "outputs": [],
   "source": [
    "display()"
   ]
  },
  {
   "cell_type": "code",
   "execution_count": 8,
   "id": "fd5d5825",
   "metadata": {},
   "outputs": [
    {
     "name": "stdout",
     "output_type": "stream",
     "text": [
      "mohit 24\n"
     ]
    }
   ],
   "source": [
    "x = Employee(\"mohit\",24)\n",
    "x.show()"
   ]
  },
  {
   "cell_type": "markdown",
   "id": "c8683b10",
   "metadata": {},
   "source": [
    "# <font size = 7 >What is Python Library?\n",
    "\n",
    "<font size = 5 > Python library is a group of interconnected modules.It contain code bundles that can be reused in different programs.\n",
    "\n",
    "# <font size = 7 > Python Libraries.\n",
    "\n",
    "<font size = 5 >Various Python libraries makes programming easier.\n",
    "\n",
    "<font size = 5 ><br>Some commonly used libraries are:\n",
    "<font size = 4 ><br>1- NumPy\n",
    "<font size = 4 ><br>2- Pandas\n",
    "<font size = 4 ><br>3- SciPy\n",
    "<font size = 4 ><br>4- Matplotlib \n",
    "<font size = 4 ><br>5- Scikit-learn"
   ]
  },
  {
   "cell_type": "code",
   "execution_count": null,
   "id": "2a8ee355",
   "metadata": {},
   "outputs": [],
   "source": [
    "import numpy,pandas,scipy, matplotlib  #  scikit-learn"
   ]
  },
  {
   "cell_type": "code",
   "execution_count": null,
   "id": "7a9a50ad",
   "metadata": {},
   "outputs": [],
   "source": [
    "dir(numpy)"
   ]
  },
  {
   "cell_type": "code",
   "execution_count": null,
   "id": "08863a2c",
   "metadata": {},
   "outputs": [],
   "source": [
    "dir(pandas)"
   ]
  },
  {
   "cell_type": "code",
   "execution_count": null,
   "id": "650de54b",
   "metadata": {},
   "outputs": [],
   "source": [
    "dir(scipy)"
   ]
  },
  {
   "cell_type": "code",
   "execution_count": null,
   "id": "fea52e24",
   "metadata": {},
   "outputs": [],
   "source": [
    "dir(matplotlib)"
   ]
  },
  {
   "cell_type": "markdown",
   "id": "5f0e4650",
   "metadata": {},
   "source": [
    "# <font size = 6> Benefits of Python Librarues\n",
    "\n",
    "- <font size = 3>Easy to learn\n",
    "- <font size = 3>Open source\n",
    "- <font size = 3>Efficient and muli-platform support\n",
    "- <font size = 3>Huge collection of function,and modules\n",
    "- <font size = 3>Big open- source community\n",
    "- <font size = 3>Integrates well with enterprise\n",
    "- <font size = 3>Apps and systems"
   ]
  },
  {
   "cell_type": "markdown",
   "id": "54c21a12",
   "metadata": {},
   "source": [
    "# <font size = 6> Python Libraries\n",
    "\n",
    "<font size = 3>1- ***NumPy*** - NumpPy is a library used for mathematics computations with multi-dimensional numerical data.\n",
    "<font size = 3><br>2- ***pandas*** - pandas consist of a variety of analysis tools and configurable high- level data structures.\n",
    "<font size = 3><br>3- ***Scipy*** - scientific python is on open-source high- level scientific computation package .This library is based on a NumPy extension.\n",
    "<font size = 3><br>4- ***Matplotlib*** - It is also an open- source library that plots high- definition\n",
    "<br>figures such as pie charts,histograms etc.\n",
    "<font size = 3><br>5- ***Scikit-learn*** - The library containds a lot of ellicient  tooks for machine learning and ststisticl       modeling including classification ,regression,clustering and dimensionality reduction."
   ]
  },
  {
   "cell_type": "markdown",
   "id": "4010de1a",
   "metadata": {},
   "source": [
    "#  <font size= 6>Introduction to NumPy   ( Numaric Python)\n",
    "\n",
    "- <font size= 4> It is Python library used for working with arrays.\n",
    "- <font size= 4> It consists of a multidimensional array of objects and a collection of functions for manipulating them.\n",
    "- <font size= 4> It conducts mathmatical and logical operations on arrays."
   ]
  },
  {
   "cell_type": "markdown",
   "id": "27858d59",
   "metadata": {},
   "source": [
    "# <font size = 6>What  is an array?\n",
    "\n",
    "- <font size = 3> An array is a central data structure of the NumPy library.<br>\n",
    "- <font size = 3> It is an grid of homogeneous values(same data type).<br>\n",
    "- <font size = 3> The ***rank*** of the array is the number of dimensions.<br>\n",
    "- <font size = 3> The array object in NumPy is calles ***ndarray***."
   ]
  },
  {
   "cell_type": "markdown",
   "id": "a353b15a",
   "metadata": {},
   "source": [
    "\n"
   ]
  },
  {
   "cell_type": "markdown",
   "id": "6ee6a23d",
   "metadata": {},
   "source": [
    "# Advantages of NumPy\n",
    "The following are the advantages of NumPy\n",
    "\n",
    "- It provides an array object that is faster than traditional Python list.\n",
    "- It provides supporting function.\n",
    "- Array are frequently used in data science."
   ]
  },
  {
   "cell_type": "code",
   "execution_count": 2,
   "id": "c80b1856",
   "metadata": {},
   "outputs": [
    {
     "name": "stdout",
     "output_type": "stream",
     "text": [
      "[1 2 3 4 5]\n"
     ]
    },
    {
     "data": {
      "text/plain": [
       "array([1, 2, 3, 4, 5])"
      ]
     },
     "execution_count": 2,
     "metadata": {},
     "output_type": "execute_result"
    }
   ],
   "source": [
    "# Importing numpy\n",
    "\n",
    "import numpy as np\n",
    "arr = np.array([1,2,3,4,5])               # Creating an ndarray list\n",
    "print(arr) \n",
    "arr"
   ]
  },
  {
   "cell_type": "code",
   "execution_count": 3,
   "id": "ce6ba6de",
   "metadata": {},
   "outputs": [
    {
     "name": "stdout",
     "output_type": "stream",
     "text": [
      "{1, 2, 3, 4, 5}\n"
     ]
    },
    {
     "data": {
      "text/plain": [
       "array({1, 2, 3, 4, 5}, dtype=object)"
      ]
     },
     "execution_count": 3,
     "metadata": {},
     "output_type": "execute_result"
    }
   ],
   "source": [
    "arr = np.array({1,2,3,4,5})                 # Creating an ndarray set\n",
    "print(arr)\n",
    "arr"
   ]
  },
  {
   "cell_type": "code",
   "execution_count": 4,
   "id": "d62a27ec",
   "metadata": {},
   "outputs": [
    {
     "name": "stdout",
     "output_type": "stream",
     "text": [
      "<class 'numpy.ndarray'>\n"
     ]
    }
   ],
   "source": [
    "print(type(arr))"
   ]
  },
  {
   "cell_type": "code",
   "execution_count": 6,
   "id": "dc528096",
   "metadata": {},
   "outputs": [
    {
     "name": "stdout",
     "output_type": "stream",
     "text": [
      "{1: '2', 3: '4'}\n"
     ]
    },
    {
     "data": {
      "text/plain": [
       "array({1: '2', 3: '4'}, dtype=object)"
      ]
     },
     "execution_count": 6,
     "metadata": {},
     "output_type": "execute_result"
    }
   ],
   "source": [
    "arr = np.array({1 :\"2\",3 :'4'})                 # Creating an ndarray of dict\n",
    "print(arr)\n",
    "arr"
   ]
  },
  {
   "cell_type": "code",
   "execution_count": 7,
   "id": "41fe3dfa",
   "metadata": {},
   "outputs": [
    {
     "name": "stdout",
     "output_type": "stream",
     "text": [
      "[1 2 3 4 5]\n"
     ]
    },
    {
     "data": {
      "text/plain": [
       "array([1, 2, 3, 4, 5])"
      ]
     },
     "execution_count": 7,
     "metadata": {},
     "output_type": "execute_result"
    }
   ],
   "source": [
    "arr = np.array((1,2,3,4,5))                 # Creating an ndarray tuple  ouput  \n",
    "print(arr)\n",
    "arr"
   ]
  },
  {
   "cell_type": "code",
   "execution_count": 10,
   "id": "27cd36de",
   "metadata": {},
   "outputs": [
    {
     "name": "stdout",
     "output_type": "stream",
     "text": [
      "['1' 'rohit' '2' 'rishi' '3' '4' '5']\n",
      "<class 'numpy.ndarray'>\n"
     ]
    },
    {
     "data": {
      "text/plain": [
       "array(['1', 'rohit', '2', 'rishi', '3', '4', '5'], dtype='<U11')"
      ]
     },
     "execution_count": 10,
     "metadata": {},
     "output_type": "execute_result"
    }
   ],
   "source": [
    "arr = np.array([1,\"rohit\",2,\"rishi\",3,4,5])                 # Creating an ndarray\n",
    "print(arr)\n",
    "print(type(arr))\n",
    "arr"
   ]
  },
  {
   "cell_type": "code",
   "execution_count": 11,
   "id": "5446c5d2",
   "metadata": {},
   "outputs": [
    {
     "name": "stdout",
     "output_type": "stream",
     "text": [
      "[1 'rohit' 2 'rishi' 3 4 None]\n",
      "<class 'numpy.ndarray'>\n"
     ]
    },
    {
     "data": {
      "text/plain": [
       "array([1, 'rohit', 2, 'rishi', 3, 4, None], dtype=object)"
      ]
     },
     "execution_count": 11,
     "metadata": {},
     "output_type": "execute_result"
    }
   ],
   "source": [
    "arr = np.array([1,\"rohit\",2,\"rishi\",3,4,None])                 # Creating an ndarray\n",
    "print(arr)\n",
    "print(type(arr))\n",
    "arr"
   ]
  },
  {
   "cell_type": "code",
   "execution_count": 12,
   "id": "b6e1124f",
   "metadata": {},
   "outputs": [
    {
     "name": "stdout",
     "output_type": "stream",
     "text": [
      "[ True False  True]\n",
      "<class 'numpy.ndarray'>\n"
     ]
    },
    {
     "data": {
      "text/plain": [
       "array([ True, False,  True])"
      ]
     },
     "execution_count": 12,
     "metadata": {},
     "output_type": "execute_result"
    }
   ],
   "source": [
    "arr = np.array([True,False,True])                 # Creating an ndarray\n",
    "print(arr)\n",
    "print(type(arr))\n",
    "arr"
   ]
  },
  {
   "cell_type": "code",
   "execution_count": 18,
   "id": "d13ff18b",
   "metadata": {},
   "outputs": [
    {
     "name": "stdout",
     "output_type": "stream",
     "text": [
      "['True' 'False' 'str' '123' 'strn' 'True']\n",
      "<class 'numpy.ndarray'>\n"
     ]
    },
    {
     "data": {
      "text/plain": [
       "array(['True', 'False', 'str', '123', 'strn', 'True'], dtype='<U11')"
      ]
     },
     "execution_count": 18,
     "metadata": {},
     "output_type": "execute_result"
    }
   ],
   "source": [
    "arr = np.array([True,False,\"str\",123, \"strn\",True])                 # Creating an ndarray\n",
    "print(arr)\n",
    "print(type(arr))\n",
    "arr"
   ]
  },
  {
   "cell_type": "code",
   "execution_count": 17,
   "id": "d3794a89",
   "metadata": {},
   "outputs": [
    {
     "name": "stdout",
     "output_type": "stream",
     "text": [
      "[  1   0 123  23   1]\n",
      "<class 'numpy.ndarray'>\n"
     ]
    },
    {
     "data": {
      "text/plain": [
       "array([  1,   0, 123,  23,   1])"
      ]
     },
     "execution_count": 17,
     "metadata": {},
     "output_type": "execute_result"
    }
   ],
   "source": [
    "arr = np.array([True,False,123,23,True])                 # Creating an ndarray\n",
    "print(arr)\n",
    "print(type(arr))\n",
    "arr"
   ]
  },
  {
   "cell_type": "code",
   "execution_count": 3,
   "id": "d365489b",
   "metadata": {},
   "outputs": [
    {
     "name": "stdout",
     "output_type": "stream",
     "text": [
      "60\n"
     ]
    }
   ],
   "source": [
    "# Creating a Zero dimensinal array\n",
    "import numpy as np\n",
    "arr = np.array(\"60\")\n",
    "print(arr)"
   ]
  },
  {
   "cell_type": "code",
   "execution_count": 4,
   "id": "4210d012",
   "metadata": {},
   "outputs": [
    {
     "name": "stdout",
     "output_type": "stream",
     "text": [
      "40\n"
     ]
    }
   ],
   "source": [
    "import numpy as np\n",
    "arr = np.array(40)\n",
    "print(arr)"
   ]
  },
  {
   "cell_type": "code",
   "execution_count": 5,
   "id": "2d2b7037",
   "metadata": {},
   "outputs": [
    {
     "name": "stdout",
     "output_type": "stream",
     "text": [
      "[1 2 3 4]\n"
     ]
    }
   ],
   "source": [
    "# Creating a one-dimensinal array\n",
    "# Each calue in a 1D array is 0D array\n",
    "\n",
    "import numpy as np\n",
    "arr = np.array([1,2,3,4])\n",
    "print(arr)"
   ]
  },
  {
   "cell_type": "code",
   "execution_count": 7,
   "id": "c16541db",
   "metadata": {},
   "outputs": [
    {
     "name": "stdout",
     "output_type": "stream",
     "text": [
      "[[1 2 3 4]\n",
      " [5 6 7 8]]\n"
     ]
    }
   ],
   "source": [
    "# Creating a two-dimensinal array\n",
    "# Each calue in a 1D arrays as its elements.\n",
    "\n",
    "import numpy as np\n",
    "arr = np.array([[1,2,3,4],[5,6,7,8]])\n",
    "print(arr)"
   ]
  },
  {
   "cell_type": "code",
   "execution_count": 2,
   "id": "035c418c",
   "metadata": {},
   "outputs": [
    {
     "name": "stdout",
     "output_type": "stream",
     "text": [
      "[[[1 2 3 4]\n",
      "  [5 6 7 8]]\n",
      "\n",
      " [[1 2 3 4]\n",
      "  [5 6 7 5]]]\n"
     ]
    },
    {
     "data": {
      "text/plain": [
       "3"
      ]
     },
     "execution_count": 2,
     "metadata": {},
     "output_type": "execute_result"
    }
   ],
   "source": [
    "# Creating a three-dimensinal array\n",
    "\n",
    "\n",
    "import numpy as np\n",
    "arr = np.array([([[1,2,3,4],[5,6,7,8]]),\n",
    "                ([[1,2,3,4],[5,6,7,5]])])\n",
    "print(arr)\n",
    "arr.ndim "
   ]
  },
  {
   "cell_type": "code",
   "execution_count": 3,
   "id": "995630c8",
   "metadata": {},
   "outputs": [
    {
     "name": "stdout",
     "output_type": "stream",
     "text": [
      "[[[[1 2 3 4]\n",
      "   [5 6 7 8]]\n",
      "\n",
      "  [[1 2 3 4]\n",
      "   [5 6 7 5]]\n",
      "\n",
      "  [[1 2 3 4]\n",
      "   [5 6 7 8]]\n",
      "\n",
      "  [[1 2 3 4]\n",
      "   [5 6 7 5]]]]\n"
     ]
    },
    {
     "data": {
      "text/plain": [
       "4"
      ]
     },
     "execution_count": 3,
     "metadata": {},
     "output_type": "execute_result"
    }
   ],
   "source": [
    "# Creating a four-dimensinal array\n",
    "import numpy as np\n",
    "arr = np.array([[([[1,2,3,4],[5,6,7,8]]),\n",
    "                 ([[1,2,3,4],[5,6,7,5]]),\n",
    "                 ([[1,2,3,4],[5,6,7,8]]),\n",
    "                 ([[1,2,3,4],[5,6,7,5]])]])\n",
    "print(arr)\n",
    "arr.ndim "
   ]
  },
  {
   "cell_type": "code",
   "execution_count": 10,
   "id": "aa7a1274",
   "metadata": {},
   "outputs": [
    {
     "name": "stdout",
     "output_type": "stream",
     "text": [
      "[[[[1 2]\n",
      "   [3 5]]\n",
      "\n",
      "  [[5 6]\n",
      "   [6 7]]\n",
      "\n",
      "  [[1 2]\n",
      "   [3 5]]\n",
      "\n",
      "  [[5 6]\n",
      "   [6 7]]]]\n"
     ]
    },
    {
     "data": {
      "text/plain": [
       "4"
      ]
     },
     "execution_count": 10,
     "metadata": {},
     "output_type": "execute_result"
    }
   ],
   "source": [
    "print(np.array([[[[1,2],[3,5]],[[5,6],[6,7]],[[1,2],[3,5]],[[5,6],[6,7]]]]))\n",
    "arr.ndim "
   ]
  },
  {
   "cell_type": "code",
   "execution_count": 46,
   "id": "ad49ff1d",
   "metadata": {},
   "outputs": [
    {
     "name": "stdout",
     "output_type": "stream",
     "text": [
      "[1 2 3 4]\n"
     ]
    },
    {
     "data": {
      "text/plain": [
       "array([1, 2, 3, 4])"
      ]
     },
     "execution_count": 46,
     "metadata": {},
     "output_type": "execute_result"
    }
   ],
   "source": [
    "# What could be another way to create an array\n",
    "y = [1,2,3,4]\n",
    "x = np.array(y)\n",
    "print(x)\n",
    "x"
   ]
  },
  {
   "cell_type": "code",
   "execution_count": 50,
   "id": "b55fee1b",
   "metadata": {},
   "outputs": [
    {
     "name": "stdout",
     "output_type": "stream",
     "text": [
      "[[[1 2 3 4]\n",
      "  [5 6 7 8]]\n",
      "\n",
      " [[6 6 7 5]\n",
      "  [1 2 3 4]]]\n"
     ]
    },
    {
     "data": {
      "text/plain": [
       "array([[[1, 2, 3, 4],\n",
       "        [5, 6, 7, 8]],\n",
       "\n",
       "       [[6, 6, 7, 5],\n",
       "        [1, 2, 3, 4]]])"
      ]
     },
     "execution_count": 50,
     "metadata": {},
     "output_type": "execute_result"
    }
   ],
   "source": [
    "y = [[[1,2,3,4],[5,6,7,8]],[[6,6,7,5],[1,2,3,4]]]\n",
    "x = np.array(y)\n",
    "print(x)\n",
    "x"
   ]
  },
  {
   "cell_type": "code",
   "execution_count": 52,
   "id": "104b0e32",
   "metadata": {},
   "outputs": [
    {
     "data": {
      "text/plain": [
       "3"
      ]
     },
     "execution_count": 52,
     "metadata": {},
     "output_type": "execute_result"
    }
   ],
   "source": [
    "x.ndim  # to check the dimensinal of arrays"
   ]
  },
  {
   "cell_type": "code",
   "execution_count": null,
   "id": "1ab929ef",
   "metadata": {},
   "outputs": [],
   "source": [
    "import"
   ]
  },
  {
   "cell_type": "code",
   "execution_count": 59,
   "id": "f0f4f1c1",
   "metadata": {},
   "outputs": [
    {
     "data": {
      "text/plain": [
       "array([0, 1, 2, 3, 4, 5, 6, 7, 8, 9])"
      ]
     },
     "execution_count": 59,
     "metadata": {},
     "output_type": "execute_result"
    }
   ],
   "source": [
    "my_arr = np.array(range(10))\n",
    "my_arr"
   ]
  },
  {
   "cell_type": "code",
   "execution_count": 61,
   "id": "8deb2d16",
   "metadata": {},
   "outputs": [
    {
     "data": {
      "text/plain": [
       "array([0, 1, 2, 3, 4, 5, 6, 7, 8, 9])"
      ]
     },
     "execution_count": 61,
     "metadata": {},
     "output_type": "execute_result"
    }
   ],
   "source": [
    "my_arr = np.arange(10)\n",
    "my_arr"
   ]
  },
  {
   "cell_type": "code",
   "execution_count": 62,
   "id": "6a0d33ec",
   "metadata": {},
   "outputs": [
    {
     "data": {
      "text/plain": [
       "array([    0,     1,     2, ..., 99997, 99998, 99999])"
      ]
     },
     "execution_count": 62,
     "metadata": {},
     "output_type": "execute_result"
    }
   ],
   "source": [
    "my_arr = np.arange(100000)\n",
    "my_arr"
   ]
  },
  {
   "cell_type": "code",
   "execution_count": 11,
   "id": "44c5df73",
   "metadata": {},
   "outputs": [],
   "source": [
    "my_arr = np.arange(100000)\n",
    "my_list = list(range(100000))\n"
   ]
  },
  {
   "cell_type": "code",
   "execution_count": 12,
   "id": "d4cd2ad4",
   "metadata": {},
   "outputs": [
    {
     "name": "stdout",
     "output_type": "stream",
     "text": [
      "68.3 µs ± 1.76 µs per loop (mean ± std. dev. of 7 runs, 10,000 loops each)\n"
     ]
    }
   ],
   "source": [
    "%timeit my_arr2 = my_arr * 2"
   ]
  },
  {
   "cell_type": "code",
   "execution_count": null,
   "id": "32144c74",
   "metadata": {},
   "outputs": [],
   "source": []
  },
  {
   "cell_type": "markdown",
   "id": "054011f6",
   "metadata": {},
   "source": [
    "# Data Types.\n",
    "\n",
    "- The bit is the most basic unit of information in computing.\n",
    "- The byte is a unit of information which contains 8 bits.\n",
    "\n",
    "\n",
    "- bit = 1\n",
    "- byte = 1 1 0 0 1 0 1 1"
   ]
  },
  {
   "cell_type": "markdown",
   "id": "5feae568",
   "metadata": {},
   "source": [
    "# Three types of data\n",
    "\n",
    "- ***Byte string*** are constrained by the character encoding used . In character encodings like ASCII, each character is represented by a single byte,limiting the available characters to the 128 ASCII characters.\n",
    "\n",
    "- ***Unicode strings*** cover a much larger range of characters,including those from various languages and special simbols.\n",
    "\n",
    "- \"***object***\" data type is used from all other data types."
   ]
  },
  {
   "cell_type": "markdown",
   "id": "998cf3bb",
   "metadata": {},
   "source": [
    "# Byte String    0,128 \n",
    "- bytes\n",
    "- bytes_\n",
    "- S\n",
    "- a\n",
    "\n",
    "# Unicode String    \n",
    "\n",
    "- U\n",
    "- str\n",
    "- str_\n",
    "- unicode\n",
    "\n",
    "# object\n",
    "- object\n",
    "- O"
   ]
  },
  {
   "cell_type": "code",
   "execution_count": 17,
   "id": "bc66df9d",
   "metadata": {},
   "outputs": [
    {
     "name": "stdout",
     "output_type": "stream",
     "text": [
      "['True' 'False' 'str' '123' '23' '5.0' '5j' 'True']\n",
      "<class 'numpy.ndarray'>\n"
     ]
    },
    {
     "data": {
      "text/plain": [
       "array(['True', 'False', 'str', '123', '23', '5.0', '5j', 'True'],\n",
       "      dtype='<U64')"
      ]
     },
     "execution_count": 17,
     "metadata": {},
     "output_type": "execute_result"
    }
   ],
   "source": [
    "arr = np.array([True,False,\"str\",123,23,5.0,5j,True])                 \n",
    "print(arr)\n",
    "print(type(arr))\n",
    "arr"
   ]
  },
  {
   "cell_type": "code",
   "execution_count": 24,
   "id": "e75b5ebe",
   "metadata": {},
   "outputs": [
    {
     "data": {
      "text/plain": [
       "array([1.+0.j, 0.+4.j, 1.+0.j])"
      ]
     },
     "execution_count": 24,
     "metadata": {},
     "output_type": "execute_result"
    }
   ],
   "source": [
    "arr = np.array([1.0,4j,True])\n",
    "arr"
   ]
  },
  {
   "cell_type": "markdown",
   "id": "ad44c033",
   "metadata": {},
   "source": [
    "# data type in numPy"
   ]
  },
  {
   "cell_type": "code",
   "execution_count": 2,
   "id": "5c385a6f",
   "metadata": {},
   "outputs": [
    {
     "data": {
      "text/plain": [
       "(array([1, 2, 3, 4], dtype=object), dtype('O'))"
      ]
     },
     "execution_count": 2,
     "metadata": {},
     "output_type": "execute_result"
    }
   ],
   "source": [
    "import numpy as np\n",
    "\n",
    "x = np.array([1,2,3,4],dtype = \"object\")\n",
    "x,x.dtype"
   ]
  },
  {
   "cell_type": "code",
   "execution_count": 4,
   "id": "5878b790",
   "metadata": {},
   "outputs": [
    {
     "data": {
      "text/plain": [
       "array(['string', '1', '2', '3', 'rohit'], dtype='<U6')"
      ]
     },
     "execution_count": 4,
     "metadata": {},
     "output_type": "execute_result"
    }
   ],
   "source": [
    "x = np.array([\"string\",1,2,3,\"rohit\"],dtype = \"U\")\n",
    "x"
   ]
  },
  {
   "cell_type": "code",
   "execution_count": 6,
   "id": "bab423bd",
   "metadata": {},
   "outputs": [
    {
     "data": {
      "text/plain": [
       "array([b'2.3', b'True', b'False', b'rohit'], dtype='|S5')"
      ]
     },
     "execution_count": 6,
     "metadata": {},
     "output_type": "execute_result"
    }
   ],
   "source": [
    "x = np.array([2.3,True,False,\"rohit\"],dtype = \"S\")\n",
    "x"
   ]
  },
  {
   "cell_type": "code",
   "execution_count": 7,
   "id": "b881725c",
   "metadata": {},
   "outputs": [
    {
     "data": {
      "text/plain": [
       "array(['2.3', 'True', 'False', 'rohit'], dtype='<U5')"
      ]
     },
     "execution_count": 7,
     "metadata": {},
     "output_type": "execute_result"
    }
   ],
   "source": [
    "x = np.array([2.3,True,False,\"rohit\"],dtype = \"U\")\n",
    "x"
   ]
  },
  {
   "cell_type": "code",
   "execution_count": 12,
   "id": "bc9c3d41",
   "metadata": {},
   "outputs": [
    {
     "data": {
      "text/plain": [
       "array(['1', '2', '3', 'rohit', '-67'], dtype='<U5')"
      ]
     },
     "execution_count": 12,
     "metadata": {},
     "output_type": "execute_result"
    }
   ],
   "source": [
    "x = np.array([1,2,3,\"rohit\",-67],dtype = \"object\")\n",
    "x"
   ]
  },
  {
   "cell_type": "code",
   "execution_count": 14,
   "id": "3b210c00",
   "metadata": {},
   "outputs": [
    {
     "data": {
      "text/plain": [
       "array([         1,          2,          3,          4, 4294967218],\n",
       "      dtype=uint32)"
      ]
     },
     "execution_count": 14,
     "metadata": {},
     "output_type": "execute_result"
    }
   ],
   "source": [
    "x = np.array([1,2,3,4,-78],dtype = \"uint\")\n",
    "x"
   ]
  },
  {
   "cell_type": "code",
   "execution_count": 30,
   "id": "97528901",
   "metadata": {},
   "outputs": [
    {
     "ename": "OverflowError",
     "evalue": "Python int too large to convert to C long",
     "output_type": "error",
     "traceback": [
      "\u001b[1;31m---------------------------------------------------------------------------\u001b[0m",
      "\u001b[1;31mOverflowError\u001b[0m                             Traceback (most recent call last)",
      "Cell \u001b[1;32mIn[30], line 1\u001b[0m\n\u001b[1;32m----> 1\u001b[0m x \u001b[38;5;241m=\u001b[39m \u001b[43mnp\u001b[49m\u001b[38;5;241;43m.\u001b[39;49m\u001b[43marray\u001b[49m\u001b[43m(\u001b[49m\u001b[43m[\u001b[49m\u001b[38;5;241;43m1\u001b[39;49m\u001b[43m,\u001b[49m\u001b[38;5;241;43m2\u001b[39;49m\u001b[43m,\u001b[49m\u001b[38;5;241;43m3\u001b[39;49m\u001b[43m,\u001b[49m\u001b[38;5;241;43m4\u001b[39;49m\u001b[43m,\u001b[49m\u001b[38;5;241;43m5\u001b[39;49m\u001b[43m,\u001b[49m\u001b[38;5;124;43m\"\u001b[39;49m\u001b[38;5;124;43m333333333333333333333333333\u001b[39;49m\u001b[38;5;124;43m\"\u001b[39;49m\u001b[43m,\u001b[49m\u001b[38;5;241;43m-\u001b[39;49m\u001b[38;5;241;43m76\u001b[39;49m\u001b[43m]\u001b[49m\u001b[43m,\u001b[49m\u001b[43mdtype\u001b[49m\u001b[43m \u001b[49m\u001b[38;5;241;43m=\u001b[39;49m\u001b[43m \u001b[49m\u001b[38;5;124;43m\"\u001b[39;49m\u001b[38;5;124;43mint32\u001b[39;49m\u001b[38;5;124;43m\"\u001b[39;49m\u001b[43m)\u001b[49m\n\u001b[0;32m      2\u001b[0m x,x\u001b[38;5;241m.\u001b[39mdtype\n",
      "\u001b[1;31mOverflowError\u001b[0m: Python int too large to convert to C long"
     ]
    }
   ],
   "source": [
    "x = np.array([1,2,3,4,5,333333333333333333333333333,-76],dtype = \"int32\")\n",
    "x,x.dtype"
   ]
  },
  {
   "cell_type": "code",
   "execution_count": 29,
   "id": "768b6dae",
   "metadata": {},
   "outputs": [
    {
     "data": {
      "text/plain": [
       "(array(['hello rohit', 'rohittt', 'rohit'], dtype='<U11'), dtype('<U11'))"
      ]
     },
     "execution_count": 29,
     "metadata": {},
     "output_type": "execute_result"
    }
   ],
   "source": [
    "x = np.array([\"hello rohit\",\"rohittt\",\"rohit\"],dtype = \"U\")\n",
    "x,x.dtype\n",
    "# dtype('<U11') telling max num of string in this array\n",
    "\n"
   ]
  },
  {
   "cell_type": "code",
   "execution_count": 34,
   "id": "b3cd30a1",
   "metadata": {},
   "outputs": [
    {
     "data": {
      "text/plain": [
       "(array([b'rohittt', b'rohit'], dtype='|S7'), dtype('S7'))"
      ]
     },
     "execution_count": 34,
     "metadata": {},
     "output_type": "execute_result"
    }
   ],
   "source": [
    "x = np.array([\"rohittt\",\"rohit\"],dtype = \"S\")\n",
    "x,x.dtype"
   ]
  },
  {
   "cell_type": "code",
   "execution_count": 33,
   "id": "57106437",
   "metadata": {},
   "outputs": [
    {
     "data": {
      "text/plain": [
       "7"
      ]
     },
     "execution_count": 33,
     "metadata": {},
     "output_type": "execute_result"
    }
   ],
   "source": [
    "len(\"rohittt\")"
   ]
  },
  {
   "cell_type": "markdown",
   "id": "3401d424",
   "metadata": {},
   "source": [
    "# NumPy Array Inpection"
   ]
  },
  {
   "cell_type": "code",
   "execution_count": 11,
   "id": "01a8e7a0",
   "metadata": {},
   "outputs": [],
   "source": [
    "import numpy as np"
   ]
  },
  {
   "cell_type": "code",
   "execution_count": 12,
   "id": "2b2fda5d",
   "metadata": {},
   "outputs": [
    {
     "data": {
      "text/plain": [
       "1"
      ]
     },
     "execution_count": 12,
     "metadata": {},
     "output_type": "execute_result"
    }
   ],
   "source": [
    "# ndarray ,ndim. - Returns the no of dimesnions\n",
    "\n",
    "x = np.array([1,2,3])\n",
    "x.ndim"
   ]
  },
  {
   "cell_type": "code",
   "execution_count": 13,
   "id": "f647b164",
   "metadata": {},
   "outputs": [
    {
     "data": {
      "text/plain": [
       "array([1, 2, 3])"
      ]
     },
     "execution_count": 13,
     "metadata": {},
     "output_type": "execute_result"
    }
   ],
   "source": [
    "x"
   ]
  },
  {
   "cell_type": "code",
   "execution_count": 14,
   "id": "b429721a",
   "metadata": {},
   "outputs": [
    {
     "data": {
      "text/plain": [
       "(3,)"
      ]
     },
     "execution_count": 14,
     "metadata": {},
     "output_type": "execute_result"
    }
   ],
   "source": [
    "# ndarray.shape  - Return the shape\n",
    "x.shape"
   ]
  },
  {
   "cell_type": "code",
   "execution_count": 12,
   "id": "00c111ba",
   "metadata": {},
   "outputs": [
    {
     "data": {
      "text/plain": [
       "2"
      ]
     },
     "execution_count": 12,
     "metadata": {},
     "output_type": "execute_result"
    }
   ],
   "source": [
    "x = np.array([[1,2,3],[1,2,3]])\n",
    "x.ndim"
   ]
  },
  {
   "cell_type": "code",
   "execution_count": 16,
   "id": "8c7e4857",
   "metadata": {},
   "outputs": [
    {
     "data": {
      "text/plain": [
       "array([[1, 2, 3],\n",
       "       [1, 2, 3]])"
      ]
     },
     "execution_count": 16,
     "metadata": {},
     "output_type": "execute_result"
    }
   ],
   "source": [
    "x"
   ]
  },
  {
   "cell_type": "code",
   "execution_count": 17,
   "id": "367385a4",
   "metadata": {},
   "outputs": [
    {
     "data": {
      "text/plain": [
       "(2, 3)"
      ]
     },
     "execution_count": 17,
     "metadata": {},
     "output_type": "execute_result"
    }
   ],
   "source": [
    "x.shape"
   ]
  },
  {
   "cell_type": "code",
   "execution_count": 18,
   "id": "00959062",
   "metadata": {},
   "outputs": [
    {
     "data": {
      "text/plain": [
       "3"
      ]
     },
     "execution_count": 18,
     "metadata": {},
     "output_type": "execute_result"
    }
   ],
   "source": [
    "x = np.array([[[1,2,3],[4,5,6],[7,8,9]]])\n",
    "x.ndim"
   ]
  },
  {
   "cell_type": "code",
   "execution_count": 19,
   "id": "d2fd257d",
   "metadata": {},
   "outputs": [
    {
     "data": {
      "text/plain": [
       "array([[[1, 2, 3],\n",
       "        [4, 5, 6],\n",
       "        [7, 8, 9]]])"
      ]
     },
     "execution_count": 19,
     "metadata": {},
     "output_type": "execute_result"
    }
   ],
   "source": [
    "x"
   ]
  },
  {
   "cell_type": "code",
   "execution_count": 46,
   "id": "4c83232f",
   "metadata": {},
   "outputs": [
    {
     "data": {
      "text/plain": [
       "(1, 3, 3)"
      ]
     },
     "execution_count": 46,
     "metadata": {},
     "output_type": "execute_result"
    }
   ],
   "source": [
    "x.shape"
   ]
  },
  {
   "cell_type": "code",
   "execution_count": 87,
   "id": "e3f2a15c",
   "metadata": {},
   "outputs": [
    {
     "data": {
      "text/plain": [
       "4"
      ]
     },
     "execution_count": 87,
     "metadata": {},
     "output_type": "execute_result"
    }
   ],
   "source": [
    "x = np.array([[[[1,2,3,4],[4,5,6,5],[7,8,9,6],[3,4,5,7]]]])\n",
    "x.ndim"
   ]
  },
  {
   "cell_type": "code",
   "execution_count": 88,
   "id": "6eb8d130",
   "metadata": {},
   "outputs": [
    {
     "data": {
      "text/plain": [
       "array([[[[1, 2, 3, 4],\n",
       "         [4, 5, 6, 5],\n",
       "         [7, 8, 9, 6],\n",
       "         [3, 4, 5, 7]]]])"
      ]
     },
     "execution_count": 88,
     "metadata": {},
     "output_type": "execute_result"
    }
   ],
   "source": [
    "x"
   ]
  },
  {
   "cell_type": "code",
   "execution_count": 89,
   "id": "a408da6e",
   "metadata": {},
   "outputs": [
    {
     "data": {
      "text/plain": [
       "(1, 1, 4, 4)"
      ]
     },
     "execution_count": 89,
     "metadata": {},
     "output_type": "execute_result"
    }
   ],
   "source": [
    "x.shape  # 1 is 3D array,1 is 2D array,4 is 1D array,4 is 0D array "
   ]
  },
  {
   "cell_type": "code",
   "execution_count": 6,
   "id": "874f6d63",
   "metadata": {},
   "outputs": [
    {
     "data": {
      "text/plain": [
       "4"
      ]
     },
     "execution_count": 6,
     "metadata": {},
     "output_type": "execute_result"
    }
   ],
   "source": [
    "x = np.array(([[[[1,2,3,2],[1,2,3,5]]],[[[1,2,3,8],[4,5,6,6]]],[[[1,2,3,5],[4,5,6,3]]]]))\n",
    "x.ndim"
   ]
  },
  {
   "cell_type": "code",
   "execution_count": 7,
   "id": "10e0d00c",
   "metadata": {},
   "outputs": [
    {
     "data": {
      "text/plain": [
       "array([[[[1, 2, 3, 2],\n",
       "         [1, 2, 3, 5]]],\n",
       "\n",
       "\n",
       "       [[[1, 2, 3, 8],\n",
       "         [4, 5, 6, 6]]],\n",
       "\n",
       "\n",
       "       [[[1, 2, 3, 5],\n",
       "         [4, 5, 6, 3]]]])"
      ]
     },
     "execution_count": 7,
     "metadata": {},
     "output_type": "execute_result"
    }
   ],
   "source": [
    "x"
   ]
  },
  {
   "cell_type": "code",
   "execution_count": 152,
   "id": "4a4fb92f",
   "metadata": {},
   "outputs": [
    {
     "data": {
      "text/plain": [
       "(3, 1, 2, 4)"
      ]
     },
     "execution_count": 152,
     "metadata": {},
     "output_type": "execute_result"
    }
   ],
   "source": [
    "x.shape"
   ]
  },
  {
   "cell_type": "code",
   "execution_count": 4,
   "id": "f3ded2b0",
   "metadata": {},
   "outputs": [
    {
     "data": {
      "text/plain": [
       "4"
      ]
     },
     "execution_count": 4,
     "metadata": {},
     "output_type": "execute_result"
    }
   ],
   "source": [
    "x = np.array([[[[2,3,4,6]],[[4,2,5,6]]],[[[1,2,2,4]],\n",
    "            [[4,2,3,4]]],[[[1,2,3,4]],[[1,2,3,4]]]])\n",
    "\n",
    "x.ndim"
   ]
  },
  {
   "cell_type": "code",
   "execution_count": 5,
   "id": "2b439216",
   "metadata": {
    "scrolled": true
   },
   "outputs": [
    {
     "data": {
      "text/plain": [
       "array([[[[2, 3, 4, 6]],\n",
       "\n",
       "        [[4, 2, 5, 6]]],\n",
       "\n",
       "\n",
       "       [[[1, 2, 2, 4]],\n",
       "\n",
       "        [[4, 2, 3, 4]]],\n",
       "\n",
       "\n",
       "       [[[1, 2, 3, 4]],\n",
       "\n",
       "        [[1, 2, 3, 4]]]])"
      ]
     },
     "execution_count": 5,
     "metadata": {},
     "output_type": "execute_result"
    }
   ],
   "source": [
    "x"
   ]
  },
  {
   "cell_type": "code",
   "execution_count": 70,
   "id": "9d0075bf",
   "metadata": {},
   "outputs": [
    {
     "data": {
      "text/plain": [
       "(3, 2, 1, 4)"
      ]
     },
     "execution_count": 70,
     "metadata": {},
     "output_type": "execute_result"
    }
   ],
   "source": [
    "x.shape # 3 is telling 3D array,2 ia telling 2D array,1 is telling 1D array,4 is telling 0D array.\n",
    "x.ndim"
   ]
  },
  {
   "cell_type": "code",
   "execution_count": 64,
   "id": "4805df8d",
   "metadata": {},
   "outputs": [
    {
     "data": {
      "text/plain": [
       "4"
      ]
     },
     "execution_count": 64,
     "metadata": {},
     "output_type": "execute_result"
    }
   ],
   "source": [
    "x = np.array([[[[1,2,3,4]],[[1,2,3,4]]]])\n",
    "x.ndim"
   ]
  },
  {
   "cell_type": "code",
   "execution_count": 66,
   "id": "75dd651a",
   "metadata": {},
   "outputs": [
    {
     "data": {
      "text/plain": [
       "array([[[[1, 2, 3, 4]],\n",
       "\n",
       "        [[1, 2, 3, 4]]]])"
      ]
     },
     "execution_count": 66,
     "metadata": {},
     "output_type": "execute_result"
    }
   ],
   "source": [
    "x"
   ]
  },
  {
   "cell_type": "code",
   "execution_count": 65,
   "id": "6083b4b0",
   "metadata": {},
   "outputs": [
    {
     "data": {
      "text/plain": [
       "(1, 2, 1, 4)"
      ]
     },
     "execution_count": 65,
     "metadata": {},
     "output_type": "execute_result"
    }
   ],
   "source": [
    "x.shape  # 1 is telling 3D array,2 ia telling 2D array,1 is telling 1D array,4 is telling 0D array."
   ]
  },
  {
   "cell_type": "code",
   "execution_count": 30,
   "id": "efd64bf1",
   "metadata": {},
   "outputs": [
    {
     "data": {
      "text/plain": [
       "3"
      ]
     },
     "execution_count": 30,
     "metadata": {},
     "output_type": "execute_result"
    }
   ],
   "source": [
    "x = np.array([[[1,2,3,2,7],[1,2,3,5,6],[2,3,4,5,5]],[[1,2,3,4,5],[1,2,3,8,5],[4,5,6,6,5]]])\n",
    "x.ndim"
   ]
  },
  {
   "cell_type": "code",
   "execution_count": 31,
   "id": "f84b8f9e",
   "metadata": {},
   "outputs": [
    {
     "data": {
      "text/plain": [
       "array([[[1, 2, 3, 2, 7],\n",
       "        [1, 2, 3, 5, 6],\n",
       "        [2, 3, 4, 5, 5]],\n",
       "\n",
       "       [[1, 2, 3, 4, 5],\n",
       "        [1, 2, 3, 8, 5],\n",
       "        [4, 5, 6, 6, 5]]])"
      ]
     },
     "execution_count": 31,
     "metadata": {},
     "output_type": "execute_result"
    }
   ],
   "source": [
    "x"
   ]
  },
  {
   "cell_type": "code",
   "execution_count": 32,
   "id": "11ab1402",
   "metadata": {},
   "outputs": [
    {
     "data": {
      "text/plain": [
       "(2, 3, 5)"
      ]
     },
     "execution_count": 32,
     "metadata": {},
     "output_type": "execute_result"
    }
   ],
   "source": [
    "x.shape"
   ]
  },
  {
   "cell_type": "code",
   "execution_count": 42,
   "id": "0f84825a",
   "metadata": {},
   "outputs": [
    {
     "data": {
      "text/plain": [
       "4"
      ]
     },
     "execution_count": 42,
     "metadata": {},
     "output_type": "execute_result"
    }
   ],
   "source": [
    "x = np.array([[[[1,2,3,2,7],[1,2,3,5,6],[2,3,4,5,5]],[[1,2,3,4,5],[1,2,3,8,5],[4,5,6,6,5]]]])\n",
    "x.ndim\n"
   ]
  },
  {
   "cell_type": "code",
   "execution_count": 44,
   "id": "87d0ef0e",
   "metadata": {},
   "outputs": [
    {
     "data": {
      "text/plain": [
       "array([[[[1, 2, 3, 2, 7],\n",
       "         [1, 2, 3, 5, 6],\n",
       "         [2, 3, 4, 5, 5]],\n",
       "\n",
       "        [[1, 2, 3, 4, 5],\n",
       "         [1, 2, 3, 8, 5],\n",
       "         [4, 5, 6, 6, 5]]]])"
      ]
     },
     "execution_count": 44,
     "metadata": {},
     "output_type": "execute_result"
    }
   ],
   "source": [
    "x"
   ]
  },
  {
   "cell_type": "code",
   "execution_count": 43,
   "id": "5b26cc3c",
   "metadata": {},
   "outputs": [
    {
     "data": {
      "text/plain": [
       "(1, 2, 3, 5)"
      ]
     },
     "execution_count": 43,
     "metadata": {},
     "output_type": "execute_result"
    }
   ],
   "source": [
    "x.shape"
   ]
  },
  {
   "cell_type": "markdown",
   "id": "c499064f",
   "metadata": {},
   "source": [
    "# CHANGE SHAPE"
   ]
  },
  {
   "cell_type": "raw",
   "id": "eadb651c",
   "metadata": {},
   "source": [
    "# Change the shape of an ndarray.\n",
    "# Shape of an ndarray also gives its size and no of dimentions.\n",
    "# For size, multiply the values in the shape tuplr e.g.(2,3) --- 2*3 = 6\n",
    "# For dimensions, counts the no of value in the shape of tuple e.g. (2,3) -- 2Diemensional.\n",
    "# While changing the shape of an array keep in mind that its size will not change.  \n"
   ]
  },
  {
   "cell_type": "code",
   "execution_count": 4,
   "id": "0404754d",
   "metadata": {},
   "outputs": [
    {
     "name": "stdout",
     "output_type": "stream",
     "text": [
      "(4,)\n",
      "[1 2 3 4]\n"
     ]
    }
   ],
   "source": [
    "import numpy as np   \n",
    "x = np.array([1,2,3,4])\n",
    "print(x.shape)\n",
    "print(x)\n",
    "# (2,2)---2*2=4\n",
    "# (2,3)---2*3=6\n",
    "x.shape = (1,2,2)"
   ]
  },
  {
   "cell_type": "code",
   "execution_count": 12,
   "id": "af748d2d",
   "metadata": {},
   "outputs": [
    {
     "name": "stdout",
     "output_type": "stream",
     "text": [
      "(2, 3)\n"
     ]
    },
    {
     "data": {
      "text/plain": [
       "array([[[[1, 2],\n",
       "         [3, 4],\n",
       "         [5, 6]]]])"
      ]
     },
     "execution_count": 12,
     "metadata": {},
     "output_type": "execute_result"
    }
   ],
   "source": [
    "x = np.array([[1,2,3],[4,5,6]])\n",
    "print(x.shape)\n",
    "\n",
    "x.shape  = (3,2)\n",
    "x.shape = (1,1,3,2)\n",
    "x"
   ]
  },
  {
   "cell_type": "code",
   "execution_count": 31,
   "id": "8846e62f",
   "metadata": {},
   "outputs": [
    {
     "name": "stdout",
     "output_type": "stream",
     "text": [
      "(8,)\n",
      "[[1 2 3 4]\n",
      " [5 6 7 8]]\n",
      "[[[1 2 3 4]\n",
      "  [5 6 7 8]]]\n",
      "[[[[1 2 3 4]\n",
      "   [5 6 7 8]]]]\n",
      "[[[[[1 2]\n",
      "    [3 4]]]\n",
      "\n",
      "\n",
      "  [[[5 6]\n",
      "    [7 8]]]]]\n",
      "[[[[[[1 2]]\n",
      "\n",
      "    [[3 4]]]]]\n",
      "\n",
      "\n",
      "\n",
      "\n",
      " [[[[[5 6]]\n",
      "\n",
      "    [[7 8]]]]]]\n"
     ]
    },
    {
     "data": {
      "text/plain": [
       "array([[[[[[[1, 2],\n",
       "            [3, 4]]]]],\n",
       "\n",
       "\n",
       "\n",
       "\n",
       "        [[[[[5, 6],\n",
       "            [7, 8]]]]]]])"
      ]
     },
     "execution_count": 31,
     "metadata": {},
     "output_type": "execute_result"
    }
   ],
   "source": [
    "x = np.array([1,2,3,4,5,6,7,8])\n",
    "print(x.shape)\n",
    "x.shape = (2,4) # 2D\n",
    "print(x)\n",
    "x.shape = (1,2,4) # 3D\n",
    "print(x)\n",
    "x.shape = (1,1,2,4) # 4D\n",
    "print(x)\n",
    "x.shape = (1,2,1,2,2) # 5D\n",
    "print(x)\n",
    "x.shape = (2,1,1,2,1,2) # 6D\n",
    "print(x)\n",
    "x.shape = (1,2,1,1,1,2,2) # 7D\n",
    "x"
   ]
  },
  {
   "cell_type": "code",
   "execution_count": 2,
   "id": "58d9a309",
   "metadata": {},
   "outputs": [
    {
     "data": {
      "text/plain": [
       "5"
      ]
     },
     "execution_count": 2,
     "metadata": {},
     "output_type": "execute_result"
    }
   ],
   "source": [
    "import numpy as np  \n",
    "# nparray.size  - Return the no of elements.\n",
    "x = np.array([1,2,3,4,5])\n",
    "x.size"
   ]
  },
  {
   "cell_type": "code",
   "execution_count": 6,
   "id": "ff3e077e",
   "metadata": {},
   "outputs": [
    {
     "data": {
      "text/plain": [
       "dtype('int32')"
      ]
     },
     "execution_count": 6,
     "metadata": {},
     "output_type": "execute_result"
    }
   ],
   "source": [
    "# nparray.dtype  - Returns the data type of the elements in the ndarray.\n",
    "x.dtype"
   ]
  },
  {
   "cell_type": "markdown",
   "id": "358022b4",
   "metadata": {},
   "source": [
    "# Methods an functions used with ndarray"
   ]
  },
  {
   "cell_type": "code",
   "execution_count": 7,
   "id": "1303bec1",
   "metadata": {},
   "outputs": [
    {
     "data": {
      "text/plain": [
       "array([[[1., 1., 1., 1.],\n",
       "        [1., 1., 1., 1.],\n",
       "        [1., 1., 1., 1.]],\n",
       "\n",
       "       [[1., 1., 1., 1.],\n",
       "        [1., 1., 1., 1.],\n",
       "        [1., 1., 1., 1.]]])"
      ]
     },
     "execution_count": 7,
     "metadata": {},
     "output_type": "execute_result"
    }
   ],
   "source": [
    "#np.ones(shape,dtype)  - Return a new array of given shape and type, filled with ones \n",
    "np.ones((2,3,4))  #.dtype"
   ]
  },
  {
   "cell_type": "code",
   "execution_count": 17,
   "id": "260dec9d",
   "metadata": {},
   "outputs": [
    {
     "data": {
      "text/plain": [
       "array([[1, 1, 1, 1, 1]])"
      ]
     },
     "execution_count": 17,
     "metadata": {},
     "output_type": "execute_result"
    }
   ],
   "source": [
    "np.ones((1,5),dtype = \"int32\")\n"
   ]
  },
  {
   "cell_type": "code",
   "execution_count": 22,
   "id": "296c90d5",
   "metadata": {},
   "outputs": [
    {
     "data": {
      "text/plain": [
       "dtype('float64')"
      ]
     },
     "execution_count": 22,
     "metadata": {},
     "output_type": "execute_result"
    }
   ],
   "source": [
    "np.ones((2,3,4)).dtype"
   ]
  },
  {
   "cell_type": "code",
   "execution_count": 21,
   "id": "f71dbfc2",
   "metadata": {},
   "outputs": [
    {
     "data": {
      "text/plain": [
       "array([['1', '1', '1', '1', '1']], dtype='<U1')"
      ]
     },
     "execution_count": 21,
     "metadata": {},
     "output_type": "execute_result"
    }
   ],
   "source": [
    "np.ones((1,5),dtype = \"U\")"
   ]
  },
  {
   "cell_type": "code",
   "execution_count": 20,
   "id": "9b753164",
   "metadata": {},
   "outputs": [
    {
     "name": "stdout",
     "output_type": "stream",
     "text": [
      "int32\n"
     ]
    },
    {
     "data": {
      "text/plain": [
       "numpy.dtype[int32]"
      ]
     },
     "execution_count": 20,
     "metadata": {},
     "output_type": "execute_result"
    }
   ],
   "source": [
    "x = np.ones((1,5),dtype = \"int32\").dtype\n",
    "print(x)\n",
    "type(x)   # x is an numpy.dtype is an object"
   ]
  },
  {
   "cell_type": "code",
   "execution_count": 73,
   "id": "e4b741b9",
   "metadata": {},
   "outputs": [
    {
     "data": {
      "text/plain": [
       "array([[[[0., 0., 0., 0.],\n",
       "         [0., 0., 0., 0.]],\n",
       "\n",
       "        [[0., 0., 0., 0.],\n",
       "         [0., 0., 0., 0.]],\n",
       "\n",
       "        [[0., 0., 0., 0.],\n",
       "         [0., 0., 0., 0.]]]])"
      ]
     },
     "execution_count": 73,
     "metadata": {},
     "output_type": "execute_result"
    }
   ],
   "source": [
    "# np.zeros(shape,dtype) - Return a new array of given shape and type,filled with zeros.\n",
    "np.zeros((1,3,2,4))"
   ]
  },
  {
   "cell_type": "code",
   "execution_count": 35,
   "id": "73650eb2",
   "metadata": {},
   "outputs": [
    {
     "data": {
      "text/plain": [
       "array([[0, 0, 0, 0, 0]], dtype=int8)"
      ]
     },
     "execution_count": 35,
     "metadata": {},
     "output_type": "execute_result"
    }
   ],
   "source": [
    "np.zeros((1,5),dtype = \"int8\")"
   ]
  },
  {
   "cell_type": "code",
   "execution_count": 28,
   "id": "0f0d9a26",
   "metadata": {},
   "outputs": [
    {
     "data": {
      "text/plain": [
       "array([[''],\n",
       "       ['']], dtype='<U1')"
      ]
     },
     "execution_count": 28,
     "metadata": {},
     "output_type": "execute_result"
    }
   ],
   "source": [
    "# np.empty(shape,dtype) - Return a new array of given shape and type, without initializing entries.\n",
    "np.empty((2,1),dtype =\"U\")"
   ]
  },
  {
   "cell_type": "code",
   "execution_count": 3,
   "id": "7b2419dd",
   "metadata": {},
   "outputs": [
    {
     "data": {
      "text/plain": [
       "array([[   0,    0, -128,   63],\n",
       "       [   0,    0, -128,   63]], dtype=int8)"
      ]
     },
     "execution_count": 3,
     "metadata": {},
     "output_type": "execute_result"
    }
   ],
   "source": [
    "np.empty((2,4),\"int8\")"
   ]
  },
  {
   "cell_type": "code",
   "execution_count": 26,
   "id": "27d08608",
   "metadata": {},
   "outputs": [
    {
     "data": {
      "text/plain": [
       "array([[[90, 90, 90, 90],\n",
       "        [90, 90, 90, 90],\n",
       "        [90, 90, 90, 90]],\n",
       "\n",
       "       [[90, 90, 90, 90],\n",
       "        [90, 90, 90, 90],\n",
       "        [90, 90, 90, 90]]])"
      ]
     },
     "execution_count": 26,
     "metadata": {},
     "output_type": "execute_result"
    }
   ],
   "source": [
    "# no.full(shape,dtype)- Return a new array of given shape and type,filled with fill_value.\n",
    "np.full((2,3,4),90) # .dtype "
   ]
  },
  {
   "cell_type": "code",
   "execution_count": 36,
   "id": "5c498e7b",
   "metadata": {},
   "outputs": [
    {
     "data": {
      "text/plain": [
       "array([[['o-o', 'o-o', 'o-o'],\n",
       "        ['o-o', 'o-o', 'o-o']]], dtype='<U3')"
      ]
     },
     "execution_count": 36,
     "metadata": {},
     "output_type": "execute_result"
    }
   ],
   "source": [
    "np.full((1,2,3),\"o-o\")"
   ]
  },
  {
   "cell_type": "code",
   "execution_count": 31,
   "id": "ea212acf",
   "metadata": {},
   "outputs": [
    {
     "data": {
      "text/plain": [
       "8"
      ]
     },
     "execution_count": 31,
     "metadata": {},
     "output_type": "execute_result"
    }
   ],
   "source": [
    "np.full((2,2,2),\"rohit\").size"
   ]
  },
  {
   "cell_type": "code",
   "execution_count": 81,
   "id": "bba6a746",
   "metadata": {},
   "outputs": [
    {
     "data": {
      "text/plain": [
       "dtype('bool')"
      ]
     },
     "execution_count": 81,
     "metadata": {},
     "output_type": "execute_result"
    }
   ],
   "source": [
    "np.full((2,1,2),True).dtype"
   ]
  },
  {
   "cell_type": "code",
   "execution_count": 76,
   "id": "28bbf3a7",
   "metadata": {},
   "outputs": [],
   "source": [
    "# .dtype,.shape,.size,.ndim methods"
   ]
  },
  {
   "cell_type": "code",
   "execution_count": 33,
   "id": "d32f642f",
   "metadata": {},
   "outputs": [
    {
     "data": {
      "text/plain": [
       "dtype('int32')"
      ]
     },
     "execution_count": 33,
     "metadata": {},
     "output_type": "execute_result"
    }
   ],
   "source": [
    "np.array([1,2]).dtype"
   ]
  },
  {
   "cell_type": "markdown",
   "id": "7d711ec8",
   "metadata": {},
   "source": [
    "# Arange"
   ]
  },
  {
   "cell_type": "code",
   "execution_count": 8,
   "id": "d68e3088",
   "metadata": {},
   "outputs": [
    {
     "data": {
      "text/plain": [
       "array([3, 5, 7, 9])"
      ]
     },
     "execution_count": 8,
     "metadata": {},
     "output_type": "execute_result"
    }
   ],
   "source": [
    "# np.arange (start,stop,step,dtype) - return evenly spaced values within a given interval.\n",
    "np.arange(3,10,2)"
   ]
  },
  {
   "cell_type": "code",
   "execution_count": 44,
   "id": "4202c269",
   "metadata": {},
   "outputs": [
    {
     "data": {
      "text/plain": [
       "array([ 2.5,  5. ,  7.5, 10. ])"
      ]
     },
     "execution_count": 44,
     "metadata": {},
     "output_type": "execute_result"
    }
   ],
   "source": [
    "#we can use floating points start,stop,&step.\n",
    "np.arange(2.5,10.5,2.5)"
   ]
  },
  {
   "cell_type": "code",
   "execution_count": 40,
   "id": "8bbdcf22",
   "metadata": {},
   "outputs": [
    {
     "data": {
      "text/plain": [
       "array([2., 3., 4., 5., 6., 7., 8., 9.])"
      ]
     },
     "execution_count": 40,
     "metadata": {},
     "output_type": "execute_result"
    }
   ],
   "source": [
    "np.arange(2,10,1,dtype = \"float\") #dtype is not an defalt arguement its keyword."
   ]
  },
  {
   "cell_type": "markdown",
   "id": "af402178",
   "metadata": {},
   "source": [
    "# linspace"
   ]
  },
  {
   "cell_type": "code",
   "execution_count": 55,
   "id": "479d1fed",
   "metadata": {},
   "outputs": [
    {
     "data": {
      "text/plain": [
       "array([2. , 3.6, 5.2, 6.8, 8.4])"
      ]
     },
     "execution_count": 55,
     "metadata": {},
     "output_type": "execute_result"
    }
   ],
   "source": [
    "# numpy.linspace (start,stop,num=50,endpoint=True,dtype)\n",
    "# Return evenly spaced numbers over a specified interval.\n",
    "# What do num=50 and endpoint=true suggest here?\n",
    "# num=50 is the default value of num when not given,i.e. ,it will give 50 numbers in the range\n",
    "# endpoint=true is the default value odf endpoint which tells us that the stop value is inclusive by default.\n",
    "np.linspace(2,10,5,endpoint=False)"
   ]
  },
  {
   "cell_type": "code",
   "execution_count": 48,
   "id": "b2f545e2",
   "metadata": {},
   "outputs": [
    {
     "data": {
      "text/plain": [
       "array([1.  , 1.08, 1.16, 1.24, 1.32, 1.4 , 1.48, 1.56, 1.64, 1.72, 1.8 ,\n",
       "       1.88, 1.96, 2.04, 2.12, 2.2 , 2.28, 2.36, 2.44, 2.52, 2.6 , 2.68,\n",
       "       2.76, 2.84, 2.92, 3.  , 3.08, 3.16, 3.24, 3.32, 3.4 , 3.48, 3.56,\n",
       "       3.64, 3.72, 3.8 , 3.88, 3.96, 4.04, 4.12, 4.2 , 4.28, 4.36, 4.44,\n",
       "       4.52, 4.6 , 4.68, 4.76, 4.84, 4.92])"
      ]
     },
     "execution_count": 48,
     "metadata": {},
     "output_type": "execute_result"
    }
   ],
   "source": [
    "np.linspace(1,5,endpoint = False )"
   ]
  },
  {
   "cell_type": "code",
   "execution_count": 4,
   "id": "535a86b8",
   "metadata": {},
   "outputs": [
    {
     "ename": "TypeError",
     "evalue": "Cannot interpret '2' as a data type",
     "output_type": "error",
     "traceback": [
      "\u001b[1;31m---------------------------------------------------------------------------\u001b[0m",
      "\u001b[1;31mTypeError\u001b[0m                                 Traceback (most recent call last)",
      "Cell \u001b[1;32mIn[4], line 1\u001b[0m\n\u001b[1;32m----> 1\u001b[0m np\u001b[38;5;241m.\u001b[39marray([\u001b[43mnp\u001b[49m\u001b[38;5;241;43m.\u001b[39;49m\u001b[43marray\u001b[49m\u001b[43m(\u001b[49m\u001b[38;5;241;43m1\u001b[39;49m\u001b[43m,\u001b[49m\u001b[38;5;241;43m2\u001b[39;49m\u001b[43m)\u001b[49m,(\u001b[38;5;241m3\u001b[39m,\u001b[38;5;241m2\u001b[39m)])\n",
      "\u001b[1;31mTypeError\u001b[0m: Cannot interpret '2' as a data type"
     ]
    }
   ],
   "source": [
    "np.array([np.array(1,2),(3,2)])"
   ]
  },
  {
   "cell_type": "markdown",
   "id": "3dfc6fb6",
   "metadata": {},
   "source": [
    "# Shape Manipulation in numpy."
   ]
  },
  {
   "cell_type": "code",
   "execution_count": 1,
   "id": "caad0739",
   "metadata": {},
   "outputs": [
    {
     "name": "stdout",
     "output_type": "stream",
     "text": [
      "(4,)\n",
      "[[1 2]\n",
      " [3 4]]\n"
     ]
    }
   ],
   "source": [
    "import numpy as np\n",
    "\n",
    "#.reshape()\n",
    "x = np.array([1,2,3,4])\n",
    "print(x.shape)\n",
    "x = x.reshape(2,2)  # creates a copy of the ndarray.\n",
    "print(x)"
   ]
  },
  {
   "cell_type": "code",
   "execution_count": 7,
   "id": "f1cbd565",
   "metadata": {},
   "outputs": [
    {
     "data": {
      "text/plain": [
       "array([[1, 2],\n",
       "       [3, 4]])"
      ]
     },
     "execution_count": 7,
     "metadata": {},
     "output_type": "execute_result"
    }
   ],
   "source": [
    "x"
   ]
  },
  {
   "cell_type": "code",
   "execution_count": 8,
   "id": "bbc66c14",
   "metadata": {},
   "outputs": [
    {
     "data": {
      "text/plain": [
       "array([[[[[1],\n",
       "          [2]],\n",
       "\n",
       "         [[3],\n",
       "          [4]]]]])"
      ]
     },
     "execution_count": 8,
     "metadata": {},
     "output_type": "execute_result"
    }
   ],
   "source": [
    "x.reshape(1,1,2,2,1) # we have to assine the reshape to change the x array"
   ]
  },
  {
   "cell_type": "code",
   "execution_count": 9,
   "id": "30c6e565",
   "metadata": {},
   "outputs": [
    {
     "name": "stdout",
     "output_type": "stream",
     "text": [
      "[[1 2]\n",
      " [3 4]]\n"
     ]
    }
   ],
   "source": [
    "print(x)"
   ]
  },
  {
   "cell_type": "code",
   "execution_count": 10,
   "id": "ee66bc8b",
   "metadata": {},
   "outputs": [
    {
     "data": {
      "text/plain": [
       "array([1, 2, 3, 4])"
      ]
     },
     "execution_count": 10,
     "metadata": {},
     "output_type": "execute_result"
    }
   ],
   "source": [
    "#.flatten()\n",
    "x.flatten()     # flatter will change the multy D array into  1D array"
   ]
  },
  {
   "cell_type": "code",
   "execution_count": 11,
   "id": "3a211b4a",
   "metadata": {},
   "outputs": [
    {
     "data": {
      "text/plain": [
       "array([1, 2, 3, 4])"
      ]
     },
     "execution_count": 11,
     "metadata": {},
     "output_type": "execute_result"
    }
   ],
   "source": [
    "#.ravel()     # ravel will make the array 1D array\n",
    "x.ravel()"
   ]
  },
  {
   "cell_type": "code",
   "execution_count": 13,
   "id": "213d6098",
   "metadata": {},
   "outputs": [
    {
     "data": {
      "text/plain": [
       "array([[1],\n",
       "       [2],\n",
       "       [3],\n",
       "       [4]])"
      ]
     },
     "execution_count": 13,
     "metadata": {},
     "output_type": "execute_result"
    }
   ],
   "source": [
    "#.resize()  ------ just like .reshape\n",
    "# The differnce between ,reshape and resize is reshape is note changing the x.array bt resize is change the shape of x .\n",
    "x.resize(4,1)\n",
    "x"
   ]
  },
  {
   "cell_type": "code",
   "execution_count": 21,
   "id": "d397e49b",
   "metadata": {},
   "outputs": [
    {
     "name": "stdout",
     "output_type": "stream",
     "text": [
      "[[1 2]\n",
      " [3 4]]\n",
      "[[1]\n",
      " [2]\n",
      " [3]\n",
      " [4]]\n"
     ]
    }
   ],
   "source": [
    "print(x.reshape(2,2))\n",
    "\n",
    "print(x)"
   ]
  },
  {
   "cell_type": "code",
   "execution_count": null,
   "id": "749711cc",
   "metadata": {},
   "outputs": [],
   "source": []
  },
  {
   "cell_type": "code",
   "execution_count": null,
   "id": "b2a38fe3",
   "metadata": {},
   "outputs": [],
   "source": []
  },
  {
   "cell_type": "markdown",
   "id": "139175ec",
   "metadata": {},
   "source": [
    "# Concatination\n",
    "\n",
    "Join a squence of array along an exixting axis."
   ]
  },
  {
   "cell_type": "code",
   "execution_count": 3,
   "id": "3c87e352",
   "metadata": {},
   "outputs": [
    {
     "name": "stdout",
     "output_type": "stream",
     "text": [
      "x : \n",
      " [[1 2 3]\n",
      " [4 5 6]] \n",
      "y : \n",
      " [[ 7  8  9]\n",
      " [10 12 13]] \n",
      "\n",
      "Resulting array : \n",
      " [[ 1  2  3]\n",
      " [ 4  5  6]\n",
      " [ 7  8  9]\n",
      " [10 12 13]]\n"
     ]
    }
   ],
   "source": [
    "# 2D array\n",
    "\n",
    "x = np.array([[1,2,3],\n",
    "              [4,5,6]])\n",
    "y = np.array([[7,8,9],\n",
    "             [10,12,13]])\n",
    "print(f\"x : \\n {x} \\ny : \\n {y} \\n\")\n",
    "print(\"Resulting array : \\n\" ,np.concatenate((x,y),axis=0)) # row- wise concatenation\n"
   ]
  },
  {
   "cell_type": "code",
   "execution_count": 5,
   "id": "02f438ad",
   "metadata": {},
   "outputs": [
    {
     "name": "stdout",
     "output_type": "stream",
     "text": [
      "x : \n",
      " [[1 2 3]\n",
      " [4 5 6]] \n",
      "y : \n",
      " [[ 7  8  9]\n",
      " [10 12 13]] \n",
      "\n",
      "Resulting array : \n",
      " [[ 1  2  3  7  8  9]\n",
      " [ 4  5  6 10 12 13]]\n"
     ]
    }
   ],
   "source": [
    "print(f\"x : \\n {x} \\ny : \\n {y} \\n\")\n",
    "print(\"Resulting array : \\n\" ,np.concatenate((x,y),axis=1)) # column - wise concatenation\n"
   ]
  },
  {
   "cell_type": "code",
   "execution_count": 9,
   "id": "6b77fd2f",
   "metadata": {},
   "outputs": [
    {
     "name": "stdout",
     "output_type": "stream",
     "text": [
      "n1 : \n",
      " [1 2 3 4] \n",
      " n2 : [5 6 7 8] \n",
      "\n",
      "for axis = 0 \n",
      " [1 2 3 4 5 6 7 8]\n"
     ]
    }
   ],
   "source": [
    "# 1D array\n",
    "n1 = np.array([1,2,3,4])\n",
    "n2 = np.array([5,6,7,8])\n",
    "print(f\"n1 : \\n {n1} \\n n2 : {n2} \\n\")\n",
    "print(\"for axis = 0 \\n\",np.concatenate((n1,n2),axis = 0),\"\\n\")"
   ]
  },
  {
   "cell_type": "code",
   "execution_count": 10,
   "id": "72b24aa0",
   "metadata": {},
   "outputs": [
    {
     "name": "stdout",
     "output_type": "stream",
     "text": [
      "n1 : \n",
      " [1 2 3 4] \n",
      " n2 : [5 6 7 8] \n",
      "\n"
     ]
    },
    {
     "ename": "AxisError",
     "evalue": "axis 1 is out of bounds for array of dimension 1",
     "output_type": "error",
     "traceback": [
      "\u001b[1;31m---------------------------------------------------------------------------\u001b[0m",
      "\u001b[1;31mAxisError\u001b[0m                                 Traceback (most recent call last)",
      "Cell \u001b[1;32mIn[10], line 2\u001b[0m\n\u001b[0;32m      1\u001b[0m \u001b[38;5;28mprint\u001b[39m(\u001b[38;5;124mf\u001b[39m\u001b[38;5;124m\"\u001b[39m\u001b[38;5;124mn1 : \u001b[39m\u001b[38;5;130;01m\\n\u001b[39;00m\u001b[38;5;124m \u001b[39m\u001b[38;5;132;01m{\u001b[39;00mn1\u001b[38;5;132;01m}\u001b[39;00m\u001b[38;5;124m \u001b[39m\u001b[38;5;130;01m\\n\u001b[39;00m\u001b[38;5;124m n2 : \u001b[39m\u001b[38;5;132;01m{\u001b[39;00mn2\u001b[38;5;132;01m}\u001b[39;00m\u001b[38;5;124m \u001b[39m\u001b[38;5;130;01m\\n\u001b[39;00m\u001b[38;5;124m\"\u001b[39m)\n\u001b[1;32m----> 2\u001b[0m \u001b[38;5;28mprint\u001b[39m(\u001b[38;5;124m\"\u001b[39m\u001b[38;5;124mfor axis = 0 \u001b[39m\u001b[38;5;130;01m\\n\u001b[39;00m\u001b[38;5;124m\"\u001b[39m,\u001b[43mnp\u001b[49m\u001b[38;5;241;43m.\u001b[39;49m\u001b[43mconcatenate\u001b[49m\u001b[43m(\u001b[49m\u001b[43m(\u001b[49m\u001b[43mn1\u001b[49m\u001b[43m,\u001b[49m\u001b[43mn2\u001b[49m\u001b[43m)\u001b[49m\u001b[43m,\u001b[49m\u001b[43maxis\u001b[49m\u001b[43m \u001b[49m\u001b[38;5;241;43m=\u001b[39;49m\u001b[43m \u001b[49m\u001b[38;5;241;43m1\u001b[39;49m\u001b[43m)\u001b[49m)\n",
      "File \u001b[1;32m<__array_function__ internals>:180\u001b[0m, in \u001b[0;36mconcatenate\u001b[1;34m(*args, **kwargs)\u001b[0m\n",
      "\u001b[1;31mAxisError\u001b[0m: axis 1 is out of bounds for array of dimension 1"
     ]
    }
   ],
   "source": [
    "print(f\"n1 : \\n {n1} \\n n2 : {n2} \\n\")\n",
    "print(\"for axis = 0 \\n\",np.concatenate((n1,n2),axis = 1))"
   ]
  },
  {
   "cell_type": "markdown",
   "id": "bf9e49ac",
   "metadata": {},
   "source": [
    "# Hstack and Vstack.\n"
   ]
  },
  {
   "cell_type": "code",
   "execution_count": 15,
   "id": "5c9897cd",
   "metadata": {},
   "outputs": [
    {
     "data": {
      "text/plain": [
       "array([[ 1,  2,  3,  7,  8,  9],\n",
       "       [ 4,  5,  6, 10, 11, 12]])"
      ]
     },
     "execution_count": 15,
     "metadata": {},
     "output_type": "execute_result"
    }
   ],
   "source": [
    "# 2D array\n",
    "x = np.array([[1,2,3],\n",
    "             [4,5,6]])\n",
    "y = np.array([[7,8,9],\n",
    "             [10,11,12]])\n",
    "np.hstack((x,y))"
   ]
  },
  {
   "cell_type": "code",
   "execution_count": 17,
   "id": "424d6783",
   "metadata": {},
   "outputs": [
    {
     "data": {
      "text/plain": [
       "array([[ 1,  2,  3],\n",
       "       [ 4,  5,  6],\n",
       "       [ 7,  8,  9],\n",
       "       [10, 11, 12]])"
      ]
     },
     "execution_count": 17,
     "metadata": {},
     "output_type": "execute_result"
    }
   ],
   "source": [
    "np.vstack((x,y))    ## np.concatenate((x,y),axis=1)"
   ]
  },
  {
   "cell_type": "code",
   "execution_count": 19,
   "id": "93bf2585",
   "metadata": {},
   "outputs": [
    {
     "data": {
      "text/plain": [
       "array([[1, 2, 3, 4],\n",
       "       [5, 6, 7, 8]])"
      ]
     },
     "execution_count": 19,
     "metadata": {},
     "output_type": "execute_result"
    }
   ],
   "source": [
    "# 1D array\n",
    "n1 = np.array([1,2,3,4])\n",
    "n2 = np.array([5,6,7,8])\n",
    "np.vstack((n1,n2))    # np.concatenate((x,y),axis=0)"
   ]
  },
  {
   "cell_type": "code",
   "execution_count": 20,
   "id": "4029e6a6",
   "metadata": {},
   "outputs": [
    {
     "data": {
      "text/plain": [
       "array([1, 2, 3, 4, 5, 6, 7, 8])"
      ]
     },
     "execution_count": 20,
     "metadata": {},
     "output_type": "execute_result"
    }
   ],
   "source": [
    "np.hstack((n1,n2))   # np.concatenate((x,y),axis=0)"
   ]
  },
  {
   "cell_type": "markdown",
   "id": "3aba63df",
   "metadata": {},
   "source": [
    "# Indexing ,Slicing & Striding"
   ]
  },
  {
   "cell_type": "code",
   "execution_count": 66,
   "id": "ffd82e7a",
   "metadata": {},
   "outputs": [
    {
     "name": "stdout",
     "output_type": "stream",
     "text": [
      "4\n",
      "3\n"
     ]
    }
   ],
   "source": [
    "# 1D  \n",
    "# (Axis 0,)\n",
    "# (column,)\n",
    "# (0D)\n",
    "x = np.array([1,2,3,4])\n",
    "print(x[3])\n",
    "print(x[2])"
   ]
  },
  {
   "cell_type": "code",
   "execution_count": 29,
   "id": "7333d0d2",
   "metadata": {},
   "outputs": [
    {
     "name": "stdout",
     "output_type": "stream",
     "text": [
      "2\n"
     ]
    },
    {
     "data": {
      "text/plain": [
       "10"
      ]
     },
     "execution_count": 29,
     "metadata": {},
     "output_type": "execute_result"
    }
   ],
   "source": [
    "x = np.array([[1,2,3,4,5],\n",
    "             [6,7,8,9,10]])\n",
    "print(x[0,1])  # preferred way\n",
    "x[1][4]"
   ]
  },
  {
   "cell_type": "code",
   "execution_count": 23,
   "id": "ebbb555a",
   "metadata": {},
   "outputs": [
    {
     "data": {
      "text/plain": [
       "3"
      ]
     },
     "execution_count": 23,
     "metadata": {},
     "output_type": "execute_result"
    }
   ],
   "source": [
    "# 1D  \n",
    "# (Axis 0 , Axis 1)\n",
    "# (Row , Column,)\n",
    "# (1D , 0D)\n",
    "x = np.array ([[1,2,3,4],\n",
    "              [5,6,7,8]])\n",
    "x[0,2]  # preferred way"
   ]
  },
  {
   "cell_type": "code",
   "execution_count": 24,
   "id": "adb709ff",
   "metadata": {},
   "outputs": [
    {
     "data": {
      "text/plain": [
       "4"
      ]
     },
     "execution_count": 24,
     "metadata": {},
     "output_type": "execute_result"
    }
   ],
   "source": [
    "x[0][3]   # altrnative way"
   ]
  },
  {
   "cell_type": "code",
   "execution_count": 25,
   "id": "6bc43027",
   "metadata": {},
   "outputs": [
    {
     "data": {
      "text/plain": [
       "1"
      ]
     },
     "execution_count": 25,
     "metadata": {},
     "output_type": "execute_result"
    }
   ],
   "source": [
    "x = np.array ([[1,2,3,4],\n",
    "              [5,6,7,8]])\n",
    "x[-2,0]  # preferred way"
   ]
  },
  {
   "cell_type": "code",
   "execution_count": 68,
   "id": "7b090cbc",
   "metadata": {},
   "outputs": [
    {
     "name": "stdout",
     "output_type": "stream",
     "text": [
      "[[2 3 4 5]\n",
      " [7 8 9 9]]\n",
      "[[1 2 3 4]\n",
      " [5 6 7 8]]\n"
     ]
    },
    {
     "data": {
      "text/plain": [
       "array([], shape=(0, 4), dtype=int32)"
      ]
     },
     "execution_count": 68,
     "metadata": {},
     "output_type": "execute_result"
    }
   ],
   "source": [
    "# indexing in 3D array\n",
    "# (axis 0, axis 1,axis 2)\n",
    "# (2D,1D,0D)\n",
    "import numpy as np\n",
    "x = np.array([[[1,2,3,4],\n",
    "              [5,6,7,8]],\n",
    "              [[2,3,4,5],\n",
    "             [7,8,9,9]]])\n",
    "print(x[1])\n",
    "print(x[0])\n",
    "            \n",
    "x[1:0,1]"
   ]
  },
  {
   "cell_type": "code",
   "execution_count": 34,
   "id": "9cd2849e",
   "metadata": {},
   "outputs": [
    {
     "data": {
      "text/plain": [
       "array([[[1, 2, 3, 4],\n",
       "        [5, 6, 7, 8]]])"
      ]
     },
     "execution_count": 34,
     "metadata": {},
     "output_type": "execute_result"
    }
   ],
   "source": [
    "x = np.array([[[1,2,3,4],\n",
    "              [5,6,7,8]],\n",
    "              [[2,3,4,5],\n",
    "             [7,8,9,9]]])\n",
    "x[0:1]"
   ]
  },
  {
   "cell_type": "code",
   "execution_count": 63,
   "id": "6bbdfee3",
   "metadata": {},
   "outputs": [
    {
     "data": {
      "text/plain": [
       "4"
      ]
     },
     "execution_count": 63,
     "metadata": {},
     "output_type": "execute_result"
    }
   ],
   "source": [
    "x[1,0,2]"
   ]
  },
  {
   "cell_type": "code",
   "execution_count": 39,
   "id": "50effc0e",
   "metadata": {},
   "outputs": [
    {
     "data": {
      "text/plain": [
       "array([[[2, 3, 4, 5],\n",
       "        [7, 8, 9, 9]]])"
      ]
     },
     "execution_count": 39,
     "metadata": {},
     "output_type": "execute_result"
    }
   ],
   "source": [
    "x[1:2]"
   ]
  },
  {
   "cell_type": "code",
   "execution_count": 55,
   "id": "477687b1",
   "metadata": {},
   "outputs": [
    {
     "data": {
      "text/plain": [
       "array([9])"
      ]
     },
     "execution_count": 55,
     "metadata": {},
     "output_type": "execute_result"
    }
   ],
   "source": [
    "x[1:3,1,3]"
   ]
  },
  {
   "cell_type": "markdown",
   "id": "c5690096",
   "metadata": {},
   "source": [
    "# Slicing &Striding\n",
    "\n",
    "Starts(inclusive):Stop(exclusive):Step"
   ]
  },
  {
   "cell_type": "code",
   "execution_count": 69,
   "id": "981c477e",
   "metadata": {},
   "outputs": [
    {
     "data": {
      "text/plain": [
       "array([1, 3])"
      ]
     },
     "execution_count": 69,
     "metadata": {},
     "output_type": "execute_result"
    }
   ],
   "source": [
    "# 1D\n",
    "x = np.array([1,2,3,4])\n",
    "x[0:4:2]"
   ]
  },
  {
   "cell_type": "code",
   "execution_count": 70,
   "id": "5aec0184",
   "metadata": {},
   "outputs": [
    {
     "data": {
      "text/plain": [
       "array([1, 3])"
      ]
     },
     "execution_count": 70,
     "metadata": {},
     "output_type": "execute_result"
    }
   ],
   "source": [
    "x[::2]"
   ]
  },
  {
   "cell_type": "code",
   "execution_count": 72,
   "id": "0923cdc8",
   "metadata": {},
   "outputs": [
    {
     "data": {
      "text/plain": [
       "array([2, 3, 4])"
      ]
     },
     "execution_count": 72,
     "metadata": {},
     "output_type": "execute_result"
    }
   ],
   "source": [
    "x[1::1]"
   ]
  },
  {
   "cell_type": "code",
   "execution_count": 73,
   "id": "71cbe8ac",
   "metadata": {},
   "outputs": [
    {
     "data": {
      "text/plain": [
       "array([[1, 2],\n",
       "       [4, 5]])"
      ]
     },
     "execution_count": 73,
     "metadata": {},
     "output_type": "execute_result"
    }
   ],
   "source": [
    "# Slicing in 2D\n",
    "import numpy as np\n",
    "a= np.array([[1,2,3],[4,5,6]])\n",
    "a[0:2,0:2]"
   ]
  },
  {
   "cell_type": "code",
   "execution_count": 74,
   "id": "94540db7",
   "metadata": {},
   "outputs": [
    {
     "data": {
      "text/plain": [
       "array([[1, 2, 3],\n",
       "       [4, 5, 6]])"
      ]
     },
     "execution_count": 74,
     "metadata": {},
     "output_type": "execute_result"
    }
   ],
   "source": [
    "a[0:2]"
   ]
  },
  {
   "cell_type": "code",
   "execution_count": 76,
   "id": "c6f38781",
   "metadata": {},
   "outputs": [
    {
     "data": {
      "text/plain": [
       "array([1, 4])"
      ]
     },
     "execution_count": 76,
     "metadata": {},
     "output_type": "execute_result"
    }
   ],
   "source": [
    "a[0:2,0]"
   ]
  },
  {
   "cell_type": "code",
   "execution_count": 78,
   "id": "b6ec05c9",
   "metadata": {},
   "outputs": [
    {
     "data": {
      "text/plain": [
       "array([2, 3])"
      ]
     },
     "execution_count": 78,
     "metadata": {},
     "output_type": "execute_result"
    }
   ],
   "source": [
    "a[0,1:3]"
   ]
  },
  {
   "cell_type": "markdown",
   "id": "b0b51783",
   "metadata": {},
   "source": [
    "# Arithmetic with Numpy\n",
    "- Any operation between equal-size arrays happens element-wise. "
   ]
  },
  {
   "cell_type": "code",
   "execution_count": 79,
   "id": "bc3c050a",
   "metadata": {},
   "outputs": [
    {
     "data": {
      "text/plain": [
       "array([[ 3,  5,  7],\n",
       "       [ 9, 11, 13]])"
      ]
     },
     "execution_count": 79,
     "metadata": {},
     "output_type": "execute_result"
    }
   ],
   "source": [
    "import numpy as np\n",
    "a = np.array([[1,2,3],\n",
    "            [4,5,6]])\n",
    "b = np.array([[2,3,4],\n",
    "             [5,6,7]])\n",
    "a+b"
   ]
  },
  {
   "cell_type": "code",
   "execution_count": 80,
   "id": "684baea0",
   "metadata": {},
   "outputs": [
    {
     "data": {
      "text/plain": [
       "array([[ 2,  6, 12],\n",
       "       [20, 30, 42]])"
      ]
     },
     "execution_count": 80,
     "metadata": {},
     "output_type": "execute_result"
    }
   ],
   "source": [
    "a*b"
   ]
  },
  {
   "cell_type": "code",
   "execution_count": 81,
   "id": "c7298275",
   "metadata": {},
   "outputs": [
    {
     "data": {
      "text/plain": [
       "array([[0, 0, 0],\n",
       "       [0, 0, 0]])"
      ]
     },
     "execution_count": 81,
     "metadata": {},
     "output_type": "execute_result"
    }
   ],
   "source": [
    "a//b"
   ]
  },
  {
   "cell_type": "code",
   "execution_count": 82,
   "id": "75991bd2",
   "metadata": {},
   "outputs": [
    {
     "data": {
      "text/plain": [
       "array([[1, 2, 3],\n",
       "       [4, 5, 6]])"
      ]
     },
     "execution_count": 82,
     "metadata": {},
     "output_type": "execute_result"
    }
   ],
   "source": [
    "a%b"
   ]
  },
  {
   "cell_type": "code",
   "execution_count": 83,
   "id": "03fc2851",
   "metadata": {},
   "outputs": [
    {
     "data": {
      "text/plain": [
       "array([[     1,      8,     81],\n",
       "       [  1024,  15625, 279936]])"
      ]
     },
     "execution_count": 83,
     "metadata": {},
     "output_type": "execute_result"
    }
   ],
   "source": [
    "a**b"
   ]
  },
  {
   "cell_type": "markdown",
   "id": "6cb8c6f8",
   "metadata": {},
   "source": [
    "# Arithmetic operations with scalars propagate the scalar argument to each element in the array.\n",
    "- Operations between differently sized arrays is called bordcasting."
   ]
  },
  {
   "cell_type": "code",
   "execution_count": 84,
   "id": "205f2b0c",
   "metadata": {},
   "outputs": [
    {
     "data": {
      "text/plain": [
       "array([[ 2,  4,  6],\n",
       "       [ 8, 10, 12]])"
      ]
     },
     "execution_count": 84,
     "metadata": {},
     "output_type": "execute_result"
    }
   ],
   "source": [
    "import numpy as np\n",
    "a = np.array([[1,2,3],\n",
    "            [4,5,6]])\n",
    "b = np.array([[2,3,4],\n",
    "             [5,6,7]])\n",
    "a*2"
   ]
  },
  {
   "cell_type": "code",
   "execution_count": 85,
   "id": "b82ec058",
   "metadata": {},
   "outputs": [
    {
     "data": {
      "text/plain": [
       "array([[-1,  0,  1],\n",
       "       [ 2,  3,  4]])"
      ]
     },
     "execution_count": 85,
     "metadata": {},
     "output_type": "execute_result"
    }
   ],
   "source": [
    "a-2"
   ]
  },
  {
   "cell_type": "code",
   "execution_count": 86,
   "id": "f27e8f7c",
   "metadata": {},
   "outputs": [
    {
     "data": {
      "text/plain": [
       "array([[ 4,  6,  8],\n",
       "       [10, 12, 14]])"
      ]
     },
     "execution_count": 86,
     "metadata": {},
     "output_type": "execute_result"
    }
   ],
   "source": [
    "b*2"
   ]
  },
  {
   "cell_type": "code",
   "execution_count": 89,
   "id": "1727edf2",
   "metadata": {},
   "outputs": [
    {
     "data": {
      "text/plain": [
       "array([[-2, -1,  0],\n",
       "       [ 1,  2,  3]])"
      ]
     },
     "execution_count": 89,
     "metadata": {},
     "output_type": "execute_result"
    }
   ],
   "source": [
    "a-np.array([3])"
   ]
  },
  {
   "cell_type": "code",
   "execution_count": 90,
   "id": "517bb8b0",
   "metadata": {},
   "outputs": [
    {
     "data": {
      "text/plain": [
       "array([[10, 11, 12],\n",
       "       [13, 14, 15]])"
      ]
     },
     "execution_count": 90,
     "metadata": {},
     "output_type": "execute_result"
    }
   ],
   "source": [
    "a+2+3+4"
   ]
  },
  {
   "cell_type": "markdown",
   "id": "33b87526",
   "metadata": {},
   "source": [
    "# Universal Functions\n",
    "- A universal function that perfrom element-wise operations on data in ndarrays."
   ]
  },
  {
   "cell_type": "code",
   "execution_count": 91,
   "id": "b0e8fb30",
   "metadata": {},
   "outputs": [
    {
     "data": {
      "text/plain": [
       "array([ 6,  8, 10, 12])"
      ]
     },
     "execution_count": 91,
     "metadata": {},
     "output_type": "execute_result"
    }
   ],
   "source": [
    "a = np.array([1,2,3,4])\n",
    "b = np.array([5,6,7,8])\n",
    "np.add(a,b)   # or a+b"
   ]
  },
  {
   "cell_type": "code",
   "execution_count": 92,
   "id": "04b35bcd",
   "metadata": {},
   "outputs": [
    {
     "data": {
      "text/plain": [
       "array([4, 4, 4, 4])"
      ]
     },
     "execution_count": 92,
     "metadata": {},
     "output_type": "execute_result"
    }
   ],
   "source": [
    "np.subtract(b,a)"
   ]
  },
  {
   "cell_type": "code",
   "execution_count": 94,
   "id": "78c801ae",
   "metadata": {},
   "outputs": [
    {
     "data": {
      "text/plain": [
       "array([1.        , 1.41421356, 1.73205081, 2.        ])"
      ]
     },
     "execution_count": 94,
     "metadata": {},
     "output_type": "execute_result"
    }
   ],
   "source": [
    "np.sqrt(a)"
   ]
  },
  {
   "cell_type": "code",
   "execution_count": 95,
   "id": "d4afb17d",
   "metadata": {},
   "outputs": [],
   "source": [
    "import numpy"
   ]
  },
  {
   "cell_type": "code",
   "execution_count": 96,
   "id": "5ef084e7",
   "metadata": {
    "collapsed": true
   },
   "outputs": [
    {
     "data": {
      "text/plain": [
       "['ALLOW_THREADS',\n",
       " 'AxisError',\n",
       " 'BUFSIZE',\n",
       " 'CLIP',\n",
       " 'ComplexWarning',\n",
       " 'DataSource',\n",
       " 'ERR_CALL',\n",
       " 'ERR_DEFAULT',\n",
       " 'ERR_IGNORE',\n",
       " 'ERR_LOG',\n",
       " 'ERR_PRINT',\n",
       " 'ERR_RAISE',\n",
       " 'ERR_WARN',\n",
       " 'FLOATING_POINT_SUPPORT',\n",
       " 'FPE_DIVIDEBYZERO',\n",
       " 'FPE_INVALID',\n",
       " 'FPE_OVERFLOW',\n",
       " 'FPE_UNDERFLOW',\n",
       " 'False_',\n",
       " 'Inf',\n",
       " 'Infinity',\n",
       " 'MAXDIMS',\n",
       " 'MAY_SHARE_BOUNDS',\n",
       " 'MAY_SHARE_EXACT',\n",
       " 'ModuleDeprecationWarning',\n",
       " 'NAN',\n",
       " 'NINF',\n",
       " 'NZERO',\n",
       " 'NaN',\n",
       " 'PINF',\n",
       " 'PZERO',\n",
       " 'RAISE',\n",
       " 'RankWarning',\n",
       " 'SHIFT_DIVIDEBYZERO',\n",
       " 'SHIFT_INVALID',\n",
       " 'SHIFT_OVERFLOW',\n",
       " 'SHIFT_UNDERFLOW',\n",
       " 'ScalarType',\n",
       " 'Tester',\n",
       " 'TooHardError',\n",
       " 'True_',\n",
       " 'UFUNC_BUFSIZE_DEFAULT',\n",
       " 'UFUNC_PYVALS_NAME',\n",
       " 'VisibleDeprecationWarning',\n",
       " 'WRAP',\n",
       " '_CopyMode',\n",
       " '_NoValue',\n",
       " '_UFUNC_API',\n",
       " '__NUMPY_SETUP__',\n",
       " '__all__',\n",
       " '__builtins__',\n",
       " '__cached__',\n",
       " '__config__',\n",
       " '__deprecated_attrs__',\n",
       " '__dir__',\n",
       " '__doc__',\n",
       " '__expired_functions__',\n",
       " '__file__',\n",
       " '__getattr__',\n",
       " '__git_version__',\n",
       " '__loader__',\n",
       " '__mkl_version__',\n",
       " '__name__',\n",
       " '__package__',\n",
       " '__path__',\n",
       " '__spec__',\n",
       " '__version__',\n",
       " '_add_newdoc_ufunc',\n",
       " '_distributor_init',\n",
       " '_financial_names',\n",
       " '_globals',\n",
       " '_mat',\n",
       " '_pyinstaller_hooks_dir',\n",
       " '_pytesttester',\n",
       " '_version',\n",
       " 'abs',\n",
       " 'absolute',\n",
       " 'add',\n",
       " 'add_docstring',\n",
       " 'add_newdoc',\n",
       " 'add_newdoc_ufunc',\n",
       " 'all',\n",
       " 'allclose',\n",
       " 'alltrue',\n",
       " 'amax',\n",
       " 'amin',\n",
       " 'angle',\n",
       " 'any',\n",
       " 'append',\n",
       " 'apply_along_axis',\n",
       " 'apply_over_axes',\n",
       " 'arange',\n",
       " 'arccos',\n",
       " 'arccosh',\n",
       " 'arcsin',\n",
       " 'arcsinh',\n",
       " 'arctan',\n",
       " 'arctan2',\n",
       " 'arctanh',\n",
       " 'argmax',\n",
       " 'argmin',\n",
       " 'argpartition',\n",
       " 'argsort',\n",
       " 'argwhere',\n",
       " 'around',\n",
       " 'array',\n",
       " 'array2string',\n",
       " 'array_equal',\n",
       " 'array_equiv',\n",
       " 'array_repr',\n",
       " 'array_split',\n",
       " 'array_str',\n",
       " 'asanyarray',\n",
       " 'asarray',\n",
       " 'asarray_chkfinite',\n",
       " 'ascontiguousarray',\n",
       " 'asfarray',\n",
       " 'asfortranarray',\n",
       " 'asmatrix',\n",
       " 'atleast_1d',\n",
       " 'atleast_2d',\n",
       " 'atleast_3d',\n",
       " 'average',\n",
       " 'bartlett',\n",
       " 'base_repr',\n",
       " 'binary_repr',\n",
       " 'bincount',\n",
       " 'bitwise_and',\n",
       " 'bitwise_not',\n",
       " 'bitwise_or',\n",
       " 'bitwise_xor',\n",
       " 'blackman',\n",
       " 'block',\n",
       " 'bmat',\n",
       " 'bool8',\n",
       " 'bool_',\n",
       " 'broadcast',\n",
       " 'broadcast_arrays',\n",
       " 'broadcast_shapes',\n",
       " 'broadcast_to',\n",
       " 'busday_count',\n",
       " 'busday_offset',\n",
       " 'busdaycalendar',\n",
       " 'byte',\n",
       " 'byte_bounds',\n",
       " 'bytes0',\n",
       " 'bytes_',\n",
       " 'c_',\n",
       " 'can_cast',\n",
       " 'cast',\n",
       " 'cbrt',\n",
       " 'cdouble',\n",
       " 'ceil',\n",
       " 'cfloat',\n",
       " 'char',\n",
       " 'character',\n",
       " 'chararray',\n",
       " 'choose',\n",
       " 'clip',\n",
       " 'clongdouble',\n",
       " 'clongfloat',\n",
       " 'column_stack',\n",
       " 'common_type',\n",
       " 'compare_chararrays',\n",
       " 'compat',\n",
       " 'complex128',\n",
       " 'complex64',\n",
       " 'complex_',\n",
       " 'complexfloating',\n",
       " 'compress',\n",
       " 'concatenate',\n",
       " 'conj',\n",
       " 'conjugate',\n",
       " 'convolve',\n",
       " 'copy',\n",
       " 'copysign',\n",
       " 'copyto',\n",
       " 'core',\n",
       " 'corrcoef',\n",
       " 'correlate',\n",
       " 'cos',\n",
       " 'cosh',\n",
       " 'count_nonzero',\n",
       " 'cov',\n",
       " 'cross',\n",
       " 'csingle',\n",
       " 'ctypeslib',\n",
       " 'cumprod',\n",
       " 'cumproduct',\n",
       " 'cumsum',\n",
       " 'datetime64',\n",
       " 'datetime_as_string',\n",
       " 'datetime_data',\n",
       " 'deg2rad',\n",
       " 'degrees',\n",
       " 'delete',\n",
       " 'deprecate',\n",
       " 'deprecate_with_doc',\n",
       " 'diag',\n",
       " 'diag_indices',\n",
       " 'diag_indices_from',\n",
       " 'diagflat',\n",
       " 'diagonal',\n",
       " 'diff',\n",
       " 'digitize',\n",
       " 'disp',\n",
       " 'divide',\n",
       " 'divmod',\n",
       " 'dot',\n",
       " 'double',\n",
       " 'dsplit',\n",
       " 'dstack',\n",
       " 'dtype',\n",
       " 'e',\n",
       " 'ediff1d',\n",
       " 'einsum',\n",
       " 'einsum_path',\n",
       " 'emath',\n",
       " 'empty',\n",
       " 'empty_like',\n",
       " 'equal',\n",
       " 'errstate',\n",
       " 'euler_gamma',\n",
       " 'exp',\n",
       " 'exp2',\n",
       " 'expand_dims',\n",
       " 'expm1',\n",
       " 'extract',\n",
       " 'eye',\n",
       " 'fabs',\n",
       " 'fastCopyAndTranspose',\n",
       " 'fft',\n",
       " 'fill_diagonal',\n",
       " 'find_common_type',\n",
       " 'finfo',\n",
       " 'fix',\n",
       " 'flatiter',\n",
       " 'flatnonzero',\n",
       " 'flexible',\n",
       " 'flip',\n",
       " 'fliplr',\n",
       " 'flipud',\n",
       " 'float16',\n",
       " 'float32',\n",
       " 'float64',\n",
       " 'float_',\n",
       " 'float_power',\n",
       " 'floating',\n",
       " 'floor',\n",
       " 'floor_divide',\n",
       " 'fmax',\n",
       " 'fmin',\n",
       " 'fmod',\n",
       " 'format_float_positional',\n",
       " 'format_float_scientific',\n",
       " 'format_parser',\n",
       " 'frexp',\n",
       " 'from_dlpack',\n",
       " 'frombuffer',\n",
       " 'fromfile',\n",
       " 'fromfunction',\n",
       " 'fromiter',\n",
       " 'frompyfunc',\n",
       " 'fromregex',\n",
       " 'fromstring',\n",
       " 'full',\n",
       " 'full_like',\n",
       " 'gcd',\n",
       " 'generic',\n",
       " 'genfromtxt',\n",
       " 'geomspace',\n",
       " 'get_array_wrap',\n",
       " 'get_include',\n",
       " 'get_printoptions',\n",
       " 'getbufsize',\n",
       " 'geterr',\n",
       " 'geterrcall',\n",
       " 'geterrobj',\n",
       " 'gradient',\n",
       " 'greater',\n",
       " 'greater_equal',\n",
       " 'half',\n",
       " 'hamming',\n",
       " 'hanning',\n",
       " 'heaviside',\n",
       " 'histogram',\n",
       " 'histogram2d',\n",
       " 'histogram_bin_edges',\n",
       " 'histogramdd',\n",
       " 'hsplit',\n",
       " 'hstack',\n",
       " 'hypot',\n",
       " 'i0',\n",
       " 'identity',\n",
       " 'iinfo',\n",
       " 'imag',\n",
       " 'in1d',\n",
       " 'index_exp',\n",
       " 'indices',\n",
       " 'inexact',\n",
       " 'inf',\n",
       " 'info',\n",
       " 'infty',\n",
       " 'inner',\n",
       " 'insert',\n",
       " 'int0',\n",
       " 'int16',\n",
       " 'int32',\n",
       " 'int64',\n",
       " 'int8',\n",
       " 'int_',\n",
       " 'intc',\n",
       " 'integer',\n",
       " 'interp',\n",
       " 'intersect1d',\n",
       " 'intp',\n",
       " 'invert',\n",
       " 'is_busday',\n",
       " 'isclose',\n",
       " 'iscomplex',\n",
       " 'iscomplexobj',\n",
       " 'isfinite',\n",
       " 'isfortran',\n",
       " 'isin',\n",
       " 'isinf',\n",
       " 'isnan',\n",
       " 'isnat',\n",
       " 'isneginf',\n",
       " 'isposinf',\n",
       " 'isreal',\n",
       " 'isrealobj',\n",
       " 'isscalar',\n",
       " 'issctype',\n",
       " 'issubclass_',\n",
       " 'issubdtype',\n",
       " 'issubsctype',\n",
       " 'iterable',\n",
       " 'ix_',\n",
       " 'kaiser',\n",
       " 'kron',\n",
       " 'lcm',\n",
       " 'ldexp',\n",
       " 'left_shift',\n",
       " 'less',\n",
       " 'less_equal',\n",
       " 'lexsort',\n",
       " 'lib',\n",
       " 'linalg',\n",
       " 'linspace',\n",
       " 'little_endian',\n",
       " 'load',\n",
       " 'loadtxt',\n",
       " 'log',\n",
       " 'log10',\n",
       " 'log1p',\n",
       " 'log2',\n",
       " 'logaddexp',\n",
       " 'logaddexp2',\n",
       " 'logical_and',\n",
       " 'logical_not',\n",
       " 'logical_or',\n",
       " 'logical_xor',\n",
       " 'logspace',\n",
       " 'longcomplex',\n",
       " 'longdouble',\n",
       " 'longfloat',\n",
       " 'longlong',\n",
       " 'lookfor',\n",
       " 'ma',\n",
       " 'mask_indices',\n",
       " 'mat',\n",
       " 'math',\n",
       " 'matmul',\n",
       " 'matrix',\n",
       " 'matrixlib',\n",
       " 'max',\n",
       " 'maximum',\n",
       " 'maximum_sctype',\n",
       " 'may_share_memory',\n",
       " 'mean',\n",
       " 'median',\n",
       " 'memmap',\n",
       " 'meshgrid',\n",
       " 'mgrid',\n",
       " 'min',\n",
       " 'min_scalar_type',\n",
       " 'minimum',\n",
       " 'mintypecode',\n",
       " 'mkl',\n",
       " 'mod',\n",
       " 'modf',\n",
       " 'moveaxis',\n",
       " 'msort',\n",
       " 'multiply',\n",
       " 'nan',\n",
       " 'nan_to_num',\n",
       " 'nanargmax',\n",
       " 'nanargmin',\n",
       " 'nancumprod',\n",
       " 'nancumsum',\n",
       " 'nanmax',\n",
       " 'nanmean',\n",
       " 'nanmedian',\n",
       " 'nanmin',\n",
       " 'nanpercentile',\n",
       " 'nanprod',\n",
       " 'nanquantile',\n",
       " 'nanstd',\n",
       " 'nansum',\n",
       " 'nanvar',\n",
       " 'nbytes',\n",
       " 'ndarray',\n",
       " 'ndenumerate',\n",
       " 'ndim',\n",
       " 'ndindex',\n",
       " 'nditer',\n",
       " 'negative',\n",
       " 'nested_iters',\n",
       " 'newaxis',\n",
       " 'nextafter',\n",
       " 'nonzero',\n",
       " 'not_equal',\n",
       " 'numarray',\n",
       " 'number',\n",
       " 'obj2sctype',\n",
       " 'object0',\n",
       " 'object_',\n",
       " 'ogrid',\n",
       " 'oldnumeric',\n",
       " 'ones',\n",
       " 'ones_like',\n",
       " 'os',\n",
       " 'outer',\n",
       " 'packbits',\n",
       " 'pad',\n",
       " 'partition',\n",
       " 'percentile',\n",
       " 'pi',\n",
       " 'piecewise',\n",
       " 'place',\n",
       " 'poly',\n",
       " 'poly1d',\n",
       " 'polyadd',\n",
       " 'polyder',\n",
       " 'polydiv',\n",
       " 'polyfit',\n",
       " 'polyint',\n",
       " 'polymul',\n",
       " 'polynomial',\n",
       " 'polysub',\n",
       " 'polyval',\n",
       " 'positive',\n",
       " 'power',\n",
       " 'printoptions',\n",
       " 'prod',\n",
       " 'product',\n",
       " 'promote_types',\n",
       " 'ptp',\n",
       " 'put',\n",
       " 'put_along_axis',\n",
       " 'putmask',\n",
       " 'quantile',\n",
       " 'r_',\n",
       " 'rad2deg',\n",
       " 'radians',\n",
       " 'random',\n",
       " 'ravel',\n",
       " 'ravel_multi_index',\n",
       " 'real',\n",
       " 'real_if_close',\n",
       " 'rec',\n",
       " 'recarray',\n",
       " 'recfromcsv',\n",
       " 'recfromtxt',\n",
       " 'reciprocal',\n",
       " 'record',\n",
       " 'remainder',\n",
       " 'repeat',\n",
       " 'require',\n",
       " 'reshape',\n",
       " 'resize',\n",
       " 'result_type',\n",
       " 'right_shift',\n",
       " 'rint',\n",
       " 'roll',\n",
       " 'rollaxis',\n",
       " 'roots',\n",
       " 'rot90',\n",
       " 'round',\n",
       " 'round_',\n",
       " 'row_stack',\n",
       " 's_',\n",
       " 'safe_eval',\n",
       " 'save',\n",
       " 'savetxt',\n",
       " 'savez',\n",
       " 'savez_compressed',\n",
       " 'sctype2char',\n",
       " 'sctypeDict',\n",
       " 'sctypes',\n",
       " 'searchsorted',\n",
       " 'select',\n",
       " 'set_numeric_ops',\n",
       " 'set_printoptions',\n",
       " 'set_string_function',\n",
       " 'setbufsize',\n",
       " 'setdiff1d',\n",
       " 'seterr',\n",
       " 'seterrcall',\n",
       " 'seterrobj',\n",
       " 'setxor1d',\n",
       " 'shape',\n",
       " 'shares_memory',\n",
       " 'short',\n",
       " 'show_config',\n",
       " 'sign',\n",
       " 'signbit',\n",
       " 'signedinteger',\n",
       " 'sin',\n",
       " 'sinc',\n",
       " 'single',\n",
       " 'singlecomplex',\n",
       " 'sinh',\n",
       " 'size',\n",
       " 'sometrue',\n",
       " 'sort',\n",
       " 'sort_complex',\n",
       " 'source',\n",
       " 'spacing',\n",
       " 'split',\n",
       " 'sqrt',\n",
       " 'square',\n",
       " 'squeeze',\n",
       " 'stack',\n",
       " 'std',\n",
       " 'str0',\n",
       " 'str_',\n",
       " 'string_',\n",
       " 'subtract',\n",
       " 'sum',\n",
       " 'swapaxes',\n",
       " 'sys',\n",
       " 'take',\n",
       " 'take_along_axis',\n",
       " 'tan',\n",
       " 'tanh',\n",
       " 'tensordot',\n",
       " 'test',\n",
       " 'testing',\n",
       " 'tile',\n",
       " 'timedelta64',\n",
       " 'trace',\n",
       " 'tracemalloc_domain',\n",
       " 'transpose',\n",
       " 'trapz',\n",
       " 'tri',\n",
       " 'tril',\n",
       " 'tril_indices',\n",
       " 'tril_indices_from',\n",
       " 'trim_zeros',\n",
       " 'triu',\n",
       " 'triu_indices',\n",
       " 'triu_indices_from',\n",
       " 'true_divide',\n",
       " 'trunc',\n",
       " 'typecodes',\n",
       " 'typename',\n",
       " 'ubyte',\n",
       " 'ufunc',\n",
       " 'uint',\n",
       " 'uint0',\n",
       " 'uint16',\n",
       " 'uint32',\n",
       " 'uint64',\n",
       " 'uint8',\n",
       " 'uintc',\n",
       " 'uintp',\n",
       " 'ulonglong',\n",
       " 'unicode_',\n",
       " 'union1d',\n",
       " 'unique',\n",
       " 'unpackbits',\n",
       " 'unravel_index',\n",
       " 'unsignedinteger',\n",
       " 'unwrap',\n",
       " 'use_hugepage',\n",
       " 'ushort',\n",
       " 'vander',\n",
       " 'var',\n",
       " 'vdot',\n",
       " 'vectorize',\n",
       " 'version',\n",
       " 'void',\n",
       " 'void0',\n",
       " 'vsplit',\n",
       " 'vstack',\n",
       " 'warnings',\n",
       " 'where',\n",
       " 'who',\n",
       " 'zeros',\n",
       " 'zeros_like']"
      ]
     },
     "execution_count": 96,
     "metadata": {},
     "output_type": "execute_result"
    }
   ],
   "source": [
    "dir (numpy)"
   ]
  },
  {
   "cell_type": "markdown",
   "id": "0311d663",
   "metadata": {},
   "source": [
    "# Pseudo-Random Number Generation"
   ]
  },
  {
   "cell_type": "code",
   "execution_count": 2,
   "id": "90c4b4df",
   "metadata": {},
   "outputs": [
    {
     "data": {
      "text/plain": [
       "0.6160404787728565"
      ]
     },
     "execution_count": 2,
     "metadata": {},
     "output_type": "execute_result"
    }
   ],
   "source": [
    "# In python we have a built-in module random\n",
    "import random\n",
    "random.random()"
   ]
  },
  {
   "cell_type": "code",
   "execution_count": 3,
   "id": "a9323ec2",
   "metadata": {},
   "outputs": [
    {
     "data": {
      "text/plain": [
       "0.9560342718892494"
      ]
     },
     "execution_count": 3,
     "metadata": {},
     "output_type": "execute_result"
    }
   ],
   "source": [
    "random.seed(2)    # same seed value will generate the same ramdom no. it will not change.\n",
    "random.random() "
   ]
  },
  {
   "cell_type": "code",
   "execution_count": 5,
   "id": "09803173",
   "metadata": {},
   "outputs": [
    {
     "data": {
      "text/plain": [
       "0.417022004702574"
      ]
     },
     "execution_count": 5,
     "metadata": {},
     "output_type": "execute_result"
    }
   ],
   "source": [
    "import numpy as np\n",
    "np.random.seed(1)\n",
    "np.random.random()"
   ]
  },
  {
   "cell_type": "markdown",
   "id": "9b552f7e",
   "metadata": {},
   "source": [
    "# Bollean Array"
   ]
  },
  {
   "cell_type": "code",
   "execution_count": 7,
   "id": "3a6496c8",
   "metadata": {},
   "outputs": [],
   "source": [
    "import numpy as np\n",
    "name = np.array([\"rohit\",\"gaurav\",\"mohit\",\"himanshu\",\"rohit\"])\n"
   ]
  },
  {
   "cell_type": "code",
   "execution_count": 10,
   "id": "b87cfdf9",
   "metadata": {},
   "outputs": [
    {
     "data": {
      "text/plain": [
       "array([ True, False, False, False,  True])"
      ]
     },
     "execution_count": 10,
     "metadata": {},
     "output_type": "execute_result"
    }
   ],
   "source": [
    "name ==\"rohit\""
   ]
  },
  {
   "cell_type": "code",
   "execution_count": 9,
   "id": "90f7af39",
   "metadata": {},
   "outputs": [
    {
     "data": {
      "text/plain": [
       "array(['rohit', 'rohit'], dtype='<U8')"
      ]
     },
     "execution_count": 9,
     "metadata": {},
     "output_type": "execute_result"
    }
   ],
   "source": [
    "name[name==\"rohit\"]"
   ]
  },
  {
   "cell_type": "code",
   "execution_count": 11,
   "id": "5d801259",
   "metadata": {},
   "outputs": [
    {
     "data": {
      "text/plain": [
       "array(['rohit', 'rohit'], dtype='<U8')"
      ]
     },
     "execution_count": 11,
     "metadata": {},
     "output_type": "execute_result"
    }
   ],
   "source": [
    "name[name==\"rohit\"] # index num is not presurv"
   ]
  },
  {
   "cell_type": "code",
   "execution_count": 18,
   "id": "0c97454d",
   "metadata": {},
   "outputs": [
    {
     "data": {
      "text/plain": [
       "'rohit'"
      ]
     },
     "execution_count": 18,
     "metadata": {},
     "output_type": "execute_result"
    }
   ],
   "source": [
    "name[name==\"rohit\"][1]"
   ]
  },
  {
   "cell_type": "code",
   "execution_count": 15,
   "id": "de888ee3",
   "metadata": {},
   "outputs": [
    {
     "data": {
      "text/plain": [
       "'gaurav'"
      ]
     },
     "execution_count": 15,
     "metadata": {},
     "output_type": "execute_result"
    }
   ],
   "source": [
    "name[1]"
   ]
  },
  {
   "cell_type": "code",
   "execution_count": 16,
   "id": "dbf2bc5c",
   "metadata": {},
   "outputs": [
    {
     "name": "stdout",
     "output_type": "stream",
     "text": [
      "[list(['hello', 'word']) list(['xyz'])]\n"
     ]
    },
    {
     "name": "stderr",
     "output_type": "stream",
     "text": [
      "C:\\Users\\Rohit Kr\\AppData\\Local\\Temp\\ipykernel_12492\\1106189503.py:1: VisibleDeprecationWarning: Creating an ndarray from ragged nested sequences (which is a list-or-tuple of lists-or-tuples-or ndarrays with different lengths or shapes) is deprecated. If you meant to do this, you must specify 'dtype=object' when creating the ndarray.\n",
      "  ar1 = np.array([[\"hello\",\"word\"],[\"xyz\"]])  # if the elenet will not be same it will becomw 1darray\n"
     ]
    },
    {
     "data": {
      "text/plain": [
       "1"
      ]
     },
     "execution_count": 16,
     "metadata": {},
     "output_type": "execute_result"
    }
   ],
   "source": [
    "ar1 = np.array([[\"hello\",\"word\"],[\"xyz\"]])  # if the elenet will not be same it will becomw 1darray\n",
    "print(ar1)\n",
    "ar1.ndim"
   ]
  },
  {
   "cell_type": "code",
   "execution_count": null,
   "id": "2aca9fb6",
   "metadata": {},
   "outputs": [],
   "source": []
  }
 ],
 "metadata": {
  "kernelspec": {
   "display_name": "Python 3 (ipykernel)",
   "language": "python",
   "name": "python3"
  },
  "language_info": {
   "codemirror_mode": {
    "name": "ipython",
    "version": 3
   },
   "file_extension": ".py",
   "mimetype": "text/x-python",
   "name": "python",
   "nbconvert_exporter": "python",
   "pygments_lexer": "ipython3",
   "version": "3.10.9"
  }
 },
 "nbformat": 4,
 "nbformat_minor": 5
}
