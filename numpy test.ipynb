{
 "cells": [
  {
   "cell_type": "code",
   "execution_count": 2,
   "id": "a7fd628f",
   "metadata": {},
   "outputs": [
    {
     "name": "stdout",
     "output_type": "stream",
     "text": [
      "[[1 2 3 4]\n",
      " [5 6 7 8]]\n"
     ]
    },
    {
     "data": {
      "text/plain": [
       "array([[5, 6, 7, 8],\n",
       "       [1, 2, 3, 4]])"
      ]
     },
     "execution_count": 2,
     "metadata": {},
     "output_type": "execute_result"
    }
   ],
   "source": [
    "import numpy as np\n",
    "\n",
    "array = np.array([[1,2,3,4],[5,6,7,8]])  # columns\n",
    "print(array)\n",
    "a = array[0]\n",
    "b = array[1]\n",
    "c = array[0]\n",
    "a = b\n",
    "b = c\n",
    "array = np.array([a,c])\n",
    "array"
   ]
  },
  {
   "cell_type": "code",
   "execution_count": 8,
   "id": "3aa14245",
   "metadata": {},
   "outputs": [
    {
     "data": {
      "text/plain": [
       "array([[2, 1, 3],\n",
       "       [5, 4, 6]])"
      ]
     },
     "execution_count": 8,
     "metadata": {},
     "output_type": "execute_result"
    }
   ],
   "source": [
    "array = np.array([[1,2,3],[4,5,6]])   # columns\n",
    "array[:,[0,1]]= array[:,[1,0]]\n",
    "array"
   ]
  },
  {
   "cell_type": "code",
   "execution_count": 14,
   "id": "18c378a7",
   "metadata": {},
   "outputs": [
    {
     "data": {
      "text/plain": [
       "array([[5, 6, 7, 8],\n",
       "       [1, 2, 3, 4]])"
      ]
     },
     "execution_count": 14,
     "metadata": {},
     "output_type": "execute_result"
    }
   ],
   "source": [
    "array = np.array([[1,2,3,4],[5,6,7,8]])   # rows\n",
    "array[[1,0]] = array[[0,1]]\n",
    "array"
   ]
  },
  {
   "cell_type": "code",
   "execution_count": 12,
   "id": "d729f4ef",
   "metadata": {},
   "outputs": [
    {
     "name": "stdout",
     "output_type": "stream",
     "text": [
      "[[4 3 2 1]\n",
      " [8 7 6 5]]\n"
     ]
    }
   ],
   "source": [
    "array = np.array([[1,2,3,4],[5,6,7,8]])  # reverse\n",
    "r_array = array[:,::-1]\n",
    "print(r_array)"
   ]
  },
  {
   "cell_type": "code",
   "execution_count": 24,
   "id": "74d4ba73",
   "metadata": {},
   "outputs": [
    {
     "data": {
      "text/plain": [
       "array([[4, 3, 2, 1],\n",
       "       [8, 7, 6, 5]])"
      ]
     },
     "execution_count": 24,
     "metadata": {},
     "output_type": "execute_result"
    }
   ],
   "source": [
    "array = np.array([[1,2,3,4],[5,6,7,8]])\n",
    "array[:,[0,1,2,3]]=array[:,[3,2,1,0]]\n",
    "array"
   ]
  },
  {
   "cell_type": "code",
   "execution_count": 73,
   "id": "c4357a79",
   "metadata": {},
   "outputs": [
    {
     "data": {
      "text/plain": [
       "array([[6, 5, 3, 1],\n",
       "       [7, 9, 4, 8]])"
      ]
     },
     "execution_count": 73,
     "metadata": {},
     "output_type": "execute_result"
    }
   ],
   "source": [
    "array = np.array([[1,3,5,6],[8,4,9,7]])\n",
    "array[0] = array[0][::-1]\n",
    "array[1] = array[1][::-1]\n",
    "array\n"
   ]
  },
  {
   "cell_type": "code",
   "execution_count": 18,
   "id": "a00cb005",
   "metadata": {},
   "outputs": [
    {
     "name": "stdout",
     "output_type": "stream",
     "text": [
      "3\n",
      "7\n",
      "[3 4 5 6 7]\n"
     ]
    }
   ],
   "source": [
    "array = [1,2,3,4,5,6,7,8,9,10]    \n",
    "start = int(input())\n",
    "stop = int(input())\n",
    "x = np.array([num for num in array if start <= num <= stop])     # list comprihencen\n",
    "print(x)\n"
   ]
  },
  {
   "cell_type": "code",
   "execution_count": 17,
   "id": "582f9ab7",
   "metadata": {},
   "outputs": [
    {
     "data": {
      "text/plain": [
       "[5, 7, 8, 5, 9, 8, 6, 5, 5, 9, 10]"
      ]
     },
     "execution_count": 17,
     "metadata": {},
     "output_type": "execute_result"
    }
   ],
   "source": [
    "y = np.array([1,3,5,7,8,5,9,8,6,5,5,9,10])\n",
    "lst = []\n",
    "for i in y:\n",
    "    if 4<=i<=10:\n",
    "        lst.append(i)\n",
    "lst"
   ]
  },
  {
   "cell_type": "code",
   "execution_count": 3,
   "id": "91979b82",
   "metadata": {},
   "outputs": [
    {
     "data": {
      "text/plain": [
       "array([ 4,  5,  6,  7,  8,  9, 10])"
      ]
     },
     "execution_count": 3,
     "metadata": {},
     "output_type": "execute_result"
    }
   ],
   "source": [
    "y = np.array([1,2,3,4,5,6,7,8,9,10])\n",
    "y[(y>=4) & (y<=10)]      # logical & operator\n",
    "\n",
    "\n"
   ]
  },
  {
   "cell_type": "code",
   "execution_count": 4,
   "id": "d136dea0",
   "metadata": {},
   "outputs": [
    {
     "data": {
      "text/plain": [
       "array([False, False, False,  True,  True,  True,  True,  True,  True,\n",
       "        True])"
      ]
     },
     "execution_count": 4,
     "metadata": {},
     "output_type": "execute_result"
    }
   ],
   "source": [
    "(y>=4) & (y<=10)   # Boolean array"
   ]
  },
  {
   "cell_type": "code",
   "execution_count": 3,
   "id": "0cce509f",
   "metadata": {},
   "outputs": [
    {
     "name": "stdout",
     "output_type": "stream",
     "text": [
      "{'array'}\n"
     ]
    }
   ],
   "source": [
    "words = [\"array\",\"numpy\"]\n",
    "vob = [\"a\",\"e\",\"i\",\"o\",\"u\"]\n",
    "lst =[]\n",
    "for word in words:\n",
    "    for wrd in word:\n",
    "        for wd in vob:\n",
    "            if wrd == wd:\n",
    "                lst.append(word)\n",
    "#print(lst)                \n",
    "for word in lst:\n",
    "    if lst.count(word)==1:\n",
    "        lst.remove(word)\n",
    "        print(set(lst))\n"
   ]
  },
  {
   "cell_type": "code",
   "execution_count": 12,
   "id": "2ffeda41",
   "metadata": {},
   "outputs": [
    {
     "data": {
      "text/plain": [
       "['array', 'once']"
      ]
     },
     "execution_count": 12,
     "metadata": {},
     "output_type": "execute_result"
    }
   ],
   "source": [
    "words= [\"array\",\"numpy\",\"once\"]   # short \n",
    "vowel_words =[]\n",
    "for x in words:\n",
    "    count = 0\n",
    "    for i in x:\n",
    "        if i in \"aeiouAEIOU\":\n",
    "            count+=1\n",
    "    if count>=2:\n",
    "        vowel_words.append(x)\n",
    "vowel_words"
   ]
  },
  {
   "cell_type": "code",
   "execution_count": null,
   "id": "2e8efcf4",
   "metadata": {},
   "outputs": [],
   "source": []
  }
 ],
 "metadata": {
  "kernelspec": {
   "display_name": "Python 3 (ipykernel)",
   "language": "python",
   "name": "python3"
  },
  "language_info": {
   "codemirror_mode": {
    "name": "ipython",
    "version": 3
   },
   "file_extension": ".py",
   "mimetype": "text/x-python",
   "name": "python",
   "nbconvert_exporter": "python",
   "pygments_lexer": "ipython3",
   "version": "3.10.9"
  }
 },
 "nbformat": 4,
 "nbformat_minor": 5
}
